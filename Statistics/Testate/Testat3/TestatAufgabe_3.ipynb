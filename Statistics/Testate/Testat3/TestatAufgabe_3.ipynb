{
 "cells": [
  {
   "cell_type": "markdown",
   "id": "688e681f",
   "metadata": {},
   "source": [
    "# Statistik-Labor Testat Aufgabe 3\n",
    "***Hinweise:***\n",
    "- Bitte überprüfen Sie Ihre Resultate vor der Abgabe Ihre Ergebnisse mit den Teilergebnissen aus der Datei ***Teilergebnisse_xy.txt***.\n",
    "- Die Unterlagen sind im **pdf-Format** in Moodle hochgeladen abzugeben. Richtige Lösungen werden nicht mehr an Sie zurückgegeben. Eine Abgabe per Email ist nicht möglich.\n",
    "- Bitte füllen Sie das jeweilige **Deckblatt** mit aus und geben es mit Ihrer Lösung zusammen ab.\n",
    "\n",
    "***Aufgabenstellung:***<br>\n",
    "In dieser Aufgabe wird die Lotterie „KENO“ untersucht, die die staatlichen Lottogesellschaften täglich (von Montag bis Samstag) anbieten. Bei dieser Lotterie besteht ein Tippfeld aus 70 Zahlen. Ein:e Teilnehmer:in an der Lotterie kann selbst entscheiden, wie viele dieser Zahlen er/sie ankreuzt (mindestens 2, höchstens 10) und welchen Betrag er/sie einsetzt (1, 2, 5 oder 10 Euro). Von den 70 Zahlen werden 20 Gewinnzahlen gezogen. Je nachdem, wie viele der Gewinnzahlen er/sie angekreuzt hatte, bekommt der/die Lotterieteilnehmer:in einen festen Geldbetrag ausgezahlt. Der Gewinnplan (Stand 01.01.2005) ist im Folgenden aufgelistet. (Es gibt Sonderregelungen für die jeweils höchsten Gewinnklassen bei 10 oder 9 getippten Zahlen; diese sollen nicht berücksichtigt werden und sind daher nicht hier aufgeführt.)\n",
    "\n",
    "\n",
    "Ablesebeispiel: Sie haben auf dem Spielschein in einem Tippfeld 7 Zahlen angekreuzt; Ihr Einsatz beträgt $2\\,€$. Wenn Sie unter Ihren 7 Zahlen genau 5 Richtige sind, erhalten Sie $2\\cdot12\\,€ = 24 €$ ausbezahlt (d. h. Ihr Gewinn beträgt $22\\,€$). Wenn Sie stattdessen nur 3 Richtige haben, erhalten Sie nichts (d. h. Sie haben einen Verlust in Höhe Ihres Einsatzes von $2\\,€$).\n",
    "\n",
    "### a) Tippfeld mit 10 Kästchen \n",
    "Die Zufallsvariablen $X_{10}$ beschreibt den Gewinn eines:r Lotterieteilnehmer:in, der/die in einem Tippfeld 10 Kästchen ankreuzt und 2 euro einsetzt. Berechnen Sie Erwartungswert und Standardabweichung von $X_{10}$.\n",
    "\n",
    "Die Zufallsvariablen\n",
    "beschreibt den Gewinn eines:r Lotterieteilnehmer:in, der/die in einem Tippfeld 10 Kästchen ankreuzt und € einsetzt. Berechnen Sie Erwartungswert und Standardabweichung von ."
   ]
  },
  {
   "cell_type": "code",
   "id": "379b75a9",
   "metadata": {
    "ExecuteTime": {
     "end_time": "2025-05-25T17:23:13.894321Z",
     "start_time": "2025-05-25T17:23:13.880576Z"
    }
   },
   "source": [
    "from scipy.stats import hypergeom\n",
    "import numpy as np\n",
    "\n",
    "N = 70   # Grungesamtheit\n",
    "K = 20\n",
    "n = 10   #Stichprobenumfang\n",
    "dist = hypergeom(N, K, n)  # Hypergeometrische Verteilung\n",
    "gewinne = {\n",
    "    10: 100000 * 2 - 2,\n",
    "    9: 1000 * 2 - 2,\n",
    "    8: 100 * 2 - 2,\n",
    "    7: 15 * 2 - 2,\n",
    "    6: 5 * 2 - 2,\n",
    "    5: 2 * 2 - 2,\n",
    "    4: -2,\n",
    "    3: -2,\n",
    "    2: -2,\n",
    "    1: -2,\n",
    "    0: 2 * 2 - 2\n",
    "}\n",
    "x = np.arange(0, 11)\n",
    "\n",
    "wahrscheinlichkeiten = dist.pmf(x)\n",
    "auszahlungen = np.array([gewinne[i] for i in x])\n",
    "\n",
    "# Erwartungswert\n",
    "mu = np.sum(wahrscheinlichkeiten * auszahlungen)\n",
    "# Varianz\n",
    "varianz = np.sum(wahrscheinlichkeiten * (auszahlungen - mu)**2)\n",
    "\n",
    "# Standardabweichung\n",
    "stdabw = np.sqrt(varianz)\n",
    "\n",
    "# Ausgabe\n",
    "print(f\"Erwartungswert     von X10: {mu:.4f}\")\n",
    "print(f\"Varianz            von X10: {varianz:.4f}\")\n",
    "print(f\"Standardabweichung von X10: {stdabw:.4f}\")\n"
   ],
   "outputs": [
    {
     "name": "stdout",
     "output_type": "stream",
     "text": [
      "Erwartungswert     von X10: -1.0120\n",
      "Varianz            von X10: 18735.7766\n",
      "Standardabweichung von X10: 136.8787\n"
     ]
    }
   ],
   "execution_count": 13
  },
  {
   "cell_type": "markdown",
   "id": "5c991640",
   "metadata": {},
   "source": [
    "### b) Weitere Tippfelder\n",
    "Berechnen Sie ebenso die Erwartungswerte und Standardabweichungen von $X_9, ..., X_2$, d. h. dem Gewinn bei Ankreuzen von 9 (bzw. 8, ..., 2) Kästchen in einem Tippfeld jeweils bei Einsatz von $2\\,€$.\n",
    "\n",
    "***Beispiellösung:***<br>\n",
    "- Abgabe für a) und b) mit vollständiger Berechnung (nicht nur Endergebnisse)\n",
    "- am liebsten in tabellarischer Form für $X_{10},...,X_2$"
   ]
  },
  {
   "cell_type": "code",
   "id": "25dc8859",
   "metadata": {
    "ExecuteTime": {
     "end_time": "2025-05-25T17:23:13.994902Z",
     "start_time": "2025-05-25T17:23:13.946133Z"
    }
   },
   "source": [
    "import numpy as np\n",
    "from scipy.stats import hypergeom\n",
    "import pandas as pd\n",
    "\n",
    "# Grunddaten für KENO\n",
    "N = 70   # Gesamtanzahl möglicher Zahlen (Population)\n",
    "K = 20   # Anzahl gezogener Gewinnzahlen (Treffer in Population)\n",
    "\n",
    "# Gewinnplan für unterschiedliche Anzahlen getippter Zahlen\n",
    "# Auszahlung = (brutto Gewinn * 2 Euro Einsatz) - 2 Euro Einsatz\n",
    "gewinne_dict = {\n",
    "    10: {10: 100000 * 2 - 2, 9: 1000 * 2 - 2, 8: 100 * 2 - 2, 7: 15 * 2 - 2, 6: 5 * 2 - 2,\n",
    "         5: 2 * 2 - 2, 4: -2, 3: -2, 2: -2, 1: -2, 0: 2 * 2 - 2},\n",
    "    9: {9: 50000 * 2 - 2, 8: 1000 * 2 - 2, 7: 20 * 2 - 2, 6: 5 * 2 - 2, 5: 2 * 2 - 2,\n",
    "        4: -2, 3: -2, 2: -2, 1: -2, 0: 2 * 2 - 2},\n",
    "    8: {8: 10000 * 2 - 2, 7: 100 * 2 - 2, 6: 15 * 2 - 2, 5: 2 * 2 - 2, 4: 1 * 2 - 2,\n",
    "        3: -2, 2: -2, 1: -2, 0: 1 * 2 - 2},\n",
    "    7: {7: 1000 * 2 - 2, 6: 100 * 2 - 2, 5: 12 * 2 - 2, 4: 1 * 2 - 2,\n",
    "        3: -2, 2: -2, 1: -2, 0: -2},\n",
    "    6: {6: 500 * 2 - 2, 5: 15 * 2 - 2, 4: 2 * 2 - 2, 3: 1 * 2 - 2,\n",
    "        2: -2, 1: -2, 0: -2},\n",
    "    5: {5: 100 * 2 - 2, 4: 7 * 2 - 2, 3: 2 * 2 - 2,\n",
    "        2: -2, 1: -2, 0: -2},\n",
    "    4: {4: 22 * 2 - 2, 3: 2 * 2 - 2, 2: 1 * 2 - 2,\n",
    "        1: -2, 0: -2},\n",
    "    3: {3: 16 * 2 - 2, 2: 1 * 2 - 2,\n",
    "        1: -2, 0: -2},\n",
    "    2: {2: 6 * 2 - 2, 1: -2, 0: -2},\n",
    "}\n",
    "\n",
    "# Liste zur Aufnahme aller Auswertungen für n = 10 bis 2 getippte Zahlen\n",
    "daten = []\n",
    "\n",
    "# Schleife über alle Tippvarianten von 10 bis 2 Zahlen\n",
    "for n in range(10, 1, -1):\n",
    "    dist = hypergeom(N, K, n)  # Hypergeometrische Verteilung für n getippte Zahlen\n",
    "    gewinne = gewinne_dict[n]  # Auszahlungstabelle für aktuelle Tippanzahl\n",
    "\n",
    "    x = np.arange(0, n + 1)  # Alle möglichen Treffer von 0 bis n\n",
    "    wahrscheinlichkeiten = dist.pmf(x)  # Wahrscheinlichkeiten für genau x Treffer\n",
    "    auszahlungen = np.array([gewinne.get(i, -2) for i in x])  # Auszahlungen zu jeder Trefferanzahl\n",
    "\n",
    "    # Erwartungswert = Summe(Wahrscheinlichkeit * Auszahlung)\n",
    "    mu = np.sum(wahrscheinlichkeiten * auszahlungen)\n",
    "\n",
    "    # Varianz = Summe((Auszahlung - Erwartungswert)^2 * Wahrscheinlichkeit)\n",
    "    varianz = np.sum(wahrscheinlichkeiten * (auszahlungen - mu) ** 2)\n",
    "    stdabw = np.sqrt(varianz)\n",
    "\n",
    "    daten.append({\n",
    "        \"n getippte Zahlen\": n,\n",
    "        \"Erwartungswert\": round(mu, 4),\n",
    "        \"Varianz\": round(varianz, 4),\n",
    "        \"Standardabweichung\": round(stdabw, 4)\n",
    "    })\n",
    "\n",
    "# In DataFrame zur tabellarischen Darstellung überführen\n",
    "df = pd.DataFrame(daten)\n",
    "\n",
    "# Ausgabe in Notebook\n",
    "df\n",
    "\n"
   ],
   "outputs": [
    {
     "data": {
      "text/plain": [
       "   n getippte Zahlen  Erwartungswert     Varianz  Standardabweichung\n",
       "0                 10         -1.0120  18735.7766            136.8787\n",
       "1                  9         -0.9991  26218.0757            161.9200\n",
       "2                  8         -1.0212   5358.7205             73.2033\n",
       "3                  7         -1.0087    331.7899             18.2151\n",
       "4                  6         -1.0051    301.3534             17.3595\n",
       "5                  5         -1.0020     56.0134              7.4842\n",
       "6                  4         -1.0111     11.2623              3.3559\n",
       "7                  3         -0.9865     20.9925              4.5818\n",
       "8                  2         -1.0559     10.4379              3.2308"
      ],
      "text/html": [
       "<div>\n",
       "<style scoped>\n",
       "    .dataframe tbody tr th:only-of-type {\n",
       "        vertical-align: middle;\n",
       "    }\n",
       "\n",
       "    .dataframe tbody tr th {\n",
       "        vertical-align: top;\n",
       "    }\n",
       "\n",
       "    .dataframe thead th {\n",
       "        text-align: right;\n",
       "    }\n",
       "</style>\n",
       "<table border=\"1\" class=\"dataframe\">\n",
       "  <thead>\n",
       "    <tr style=\"text-align: right;\">\n",
       "      <th></th>\n",
       "      <th>n getippte Zahlen</th>\n",
       "      <th>Erwartungswert</th>\n",
       "      <th>Varianz</th>\n",
       "      <th>Standardabweichung</th>\n",
       "    </tr>\n",
       "  </thead>\n",
       "  <tbody>\n",
       "    <tr>\n",
       "      <th>0</th>\n",
       "      <td>10</td>\n",
       "      <td>-1.0120</td>\n",
       "      <td>18735.7766</td>\n",
       "      <td>136.8787</td>\n",
       "    </tr>\n",
       "    <tr>\n",
       "      <th>1</th>\n",
       "      <td>9</td>\n",
       "      <td>-0.9991</td>\n",
       "      <td>26218.0757</td>\n",
       "      <td>161.9200</td>\n",
       "    </tr>\n",
       "    <tr>\n",
       "      <th>2</th>\n",
       "      <td>8</td>\n",
       "      <td>-1.0212</td>\n",
       "      <td>5358.7205</td>\n",
       "      <td>73.2033</td>\n",
       "    </tr>\n",
       "    <tr>\n",
       "      <th>3</th>\n",
       "      <td>7</td>\n",
       "      <td>-1.0087</td>\n",
       "      <td>331.7899</td>\n",
       "      <td>18.2151</td>\n",
       "    </tr>\n",
       "    <tr>\n",
       "      <th>4</th>\n",
       "      <td>6</td>\n",
       "      <td>-1.0051</td>\n",
       "      <td>301.3534</td>\n",
       "      <td>17.3595</td>\n",
       "    </tr>\n",
       "    <tr>\n",
       "      <th>5</th>\n",
       "      <td>5</td>\n",
       "      <td>-1.0020</td>\n",
       "      <td>56.0134</td>\n",
       "      <td>7.4842</td>\n",
       "    </tr>\n",
       "    <tr>\n",
       "      <th>6</th>\n",
       "      <td>4</td>\n",
       "      <td>-1.0111</td>\n",
       "      <td>11.2623</td>\n",
       "      <td>3.3559</td>\n",
       "    </tr>\n",
       "    <tr>\n",
       "      <th>7</th>\n",
       "      <td>3</td>\n",
       "      <td>-0.9865</td>\n",
       "      <td>20.9925</td>\n",
       "      <td>4.5818</td>\n",
       "    </tr>\n",
       "    <tr>\n",
       "      <th>8</th>\n",
       "      <td>2</td>\n",
       "      <td>-1.0559</td>\n",
       "      <td>10.4379</td>\n",
       "      <td>3.2308</td>\n",
       "    </tr>\n",
       "  </tbody>\n",
       "</table>\n",
       "</div>"
      ]
     },
     "execution_count": 14,
     "metadata": {},
     "output_type": "execute_result"
    }
   ],
   "execution_count": 14
  },
  {
   "cell_type": "markdown",
   "id": "47ded6e2",
   "metadata": {},
   "source": [
    "### c) Gewinnchance-Maximierung\n",
    "Wie viele Kästchen pro Tippfeld sollte ein:e KENO-Spieler:in ankreuzen, der/die den Erwartungswert seines/ihres Gewinns maximieren möchte?"
   ]
  },
  {
   "cell_type": "code",
   "id": "042a1f31",
   "metadata": {
    "ExecuteTime": {
     "end_time": "2025-05-25T17:23:14.093650Z",
     "start_time": "2025-05-25T17:23:14.086566Z"
    }
   },
   "source": [
    "df.loc[df[\"Erwartungswert\"].idxmax()]\n",
    "# => also 3 Tippfelder\n"
   ],
   "outputs": [
    {
     "data": {
      "text/plain": [
       "n getippte Zahlen      3.0000\n",
       "Erwartungswert        -0.9865\n",
       "Varianz               20.9925\n",
       "Standardabweichung     4.5818\n",
       "Name: 7, dtype: float64"
      ]
     },
     "execution_count": 15,
     "metadata": {},
     "output_type": "execute_result"
    }
   ],
   "execution_count": 15
  },
  {
   "cell_type": "markdown",
   "id": "6559d500",
   "metadata": {},
   "source": [
    "### d) Individual Aufgabe\n",
    "Beantworten Sie die in Datei **sr_aufg_3d_xy.txt** im Unterverzeichnis **Endziffer_xy** gestellte Frage (*xy = Endziffern Ihrer Matrikelnummer*). Welche Funktion verwenden Sie hier? Welche Werte muss man für die Parameter einsetzen?\n",
    "\n",
    "***Tipp:***<br>\n",
    "- Die Datei sr_aufg_3d_xy.txt ist nur aus technischen Gründen im .txt-Format abgespeichert. Sie muss nicht in das Notebook eingelesen werden, sondern kann auch mit Microsoft Word, WordPad oder dem Editor gelesen werden.\n",
    "- Es treten (je nach Matrikelnummer) Formulierungen wie \"**höchstens** 9-mal\", \"**mindestens** 9-mal\" oder \"**genau** 9-mal\" auf. Verwechseln Sie diese nicht!"
   ]
  },
  {
   "cell_type": "code",
   "id": "7ddd2977",
   "metadata": {
    "ExecuteTime": {
     "end_time": "2025-05-25T17:23:14.214837Z",
     "start_time": "2025-05-25T17:23:14.206032Z"
    }
   },
   "source": [
    "from math import comb\n",
    "from scipy.stats import binom\n",
    "\n",
    "# Schritt 1: Verlustwahrscheinlichkeit berechnen mit Hypergeometrie\n",
    "def hypergeo(k, N=70, K=20, n=6):\n",
    "    return comb(K, k) * comb(N - K, n - k) / comb(N, n)\n",
    "\n",
    "# Einzelwahrscheinlichkeiten für 0, 1, 2 Richtige bei 6 Tipps\n",
    "p_0 = hypergeo(0)\n",
    "p_1 = hypergeo(1)\n",
    "p_2 = hypergeo(2)\n",
    "\n",
    "# Gesamtwahrscheinlichkeit für Verlust (0, 1 oder 2 Richtige)\n",
    "p_loss = p_0 + p_1 + p_2\n",
    "\n",
    "# Schritt 2: Binomialwahrscheinlichkeit für genau 12 Verluste bei 16 Spielen\n",
    "n_spiele = 16\n",
    "k_verluste = 12\n",
    "\n",
    "p_genau_12_verluste = binom.pmf(k_verluste, n_spiele, p_loss)\n",
    "\n",
    "print(f\"Wahrscheinlichkeit für genau 12 Verluste in 16 Spielen: {p_genau_12_verluste:.4f}\")\n"
   ],
   "outputs": [
    {
     "name": "stdout",
     "output_type": "stream",
     "text": [
      "Wahrscheinlichkeit für genau 12 Verluste in 16 Spielen: 0.2173\n"
     ]
    }
   ],
   "execution_count": 16
  }
 ],
 "metadata": {
  "kernelspec": {
   "display_name": "Python 3 (ipykernel)",
   "language": "python",
   "name": "python3"
  },
  "language_info": {
   "codemirror_mode": {
    "name": "ipython",
    "version": 3
   },
   "file_extension": ".py",
   "mimetype": "text/x-python",
   "name": "python",
   "nbconvert_exporter": "python",
   "pygments_lexer": "ipython3",
   "version": "3.12.10"
  }
 },
 "nbformat": 4,
 "nbformat_minor": 5
}
