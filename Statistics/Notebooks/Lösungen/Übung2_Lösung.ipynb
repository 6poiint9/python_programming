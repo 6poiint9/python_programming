{
 "cells": [
  {
   "cell_type": "markdown",
   "id": "59916038",
   "metadata": {},
   "source": [
    "# Einführung Statistiklabor \n",
    "# Beispielaufgabe 2 - Weltmaisproduktion\n",
    "\n",
    "Lesen Sie die txt-Datei mit der Weltmaisproduktion ein. Beachten Sie dabei die letzten Zeilen aus dem Dokument zu löschen. \n",
    "\n",
    "Bestimmen Sie anschließend die **Regressionskurve** mit *Koeffizienten*, *Achsenabschnitt* und dem *Korrelationskoeffizienten* (nur für lineare Regression) bzw. das *Bestimmtheitsmaß* $R^2$."
   ]
  },
  {
   "cell_type": "markdown",
   "id": "908ecdbb",
   "metadata": {},
   "source": [
    "## 1. Einlesen der Datei und Datenbereinigung"
   ]
  },
  {
   "cell_type": "code",
   "id": "1d2e02cd",
   "metadata": {
    "ExecuteTime": {
     "end_time": "2025-05-10T17:19:42.156712Z",
     "start_time": "2025-05-10T17:19:42.148180Z"
    }
   },
   "source": [
    "import pandas as pd\n",
    "\n",
    "# Datei einlesen mit geeignetem Encoding\n",
    "data = pd.read_csv(\n",
    "    r'/home/gen69/Python/Statistics/datasets/Maisproduktion.txt',\n",
    "    sep='\\t',\n",
    "    encoding='latin1'\n",
    ")\n",
    "\n",
    "# Entferne Zeilen, in denen 'Jahr' keine Zahl ist\n",
    "data = data[pd.to_numeric(data['Jahr'], errors='coerce').notna()]\n",
    "\n",
    "# Optional: Spalten bereinigen\n",
    "data = data.drop(columns=[col for col in data.columns if 'Unnamed' in col])\n",
    "\n",
    "# Jahr in int umwandeln\n",
    "data['Jahr'] = data['Jahr'].astype(int)\n",
    "\n",
    "print(data)\n"
   ],
   "outputs": [
    {
     "name": "stdout",
     "output_type": "stream",
     "text": [
      "   Jahr  Maisproduktion\n",
      "0  1960           220.0\n",
      "1  1970           300.0\n",
      "2  1980           420.0\n",
      "3  1990           520.0\n",
      "4  2000           590.0\n",
      "5  2001           614.0\n",
      "6  2002           602.0\n",
      "7  2003           640.0\n",
      "8  2004           705.0\n"
     ]
    }
   ],
   "execution_count": 10
  },
  {
   "cell_type": "markdown",
   "id": "1a56afae",
   "metadata": {},
   "source": [
    "## 2. Lineare Regression / Lineare Funktion\n",
    "### 2.1 Streudiagramm erstellen"
   ]
  },
  {
   "cell_type": "code",
   "id": "1623d85c",
   "metadata": {
    "ExecuteTime": {
     "end_time": "2025-05-10T17:19:42.268588Z",
     "start_time": "2025-05-10T17:19:42.198911Z"
    }
   },
   "source": [
    "import matplotlib.pyplot as plt\n",
    "\n",
    "plt.scatter(data['Jahr'], data['Maisproduktion'], marker='x')\n",
    "\n",
    "plt.xlabel('Jahr')\n",
    "plt.ylabel('Maisproduktion [Mio. Tonnen]')\n",
    "plt.title('Maisproduktion in Mio. Tonnen seit 1960')\n",
    "\n",
    "plt.show()"
   ],
   "outputs": [
    {
     "data": {
      "text/plain": [
       "<Figure size 640x480 with 1 Axes>"
      ],
      "image/png": "[encoded data removed]"
     },
     "metadata": {},
     "output_type": "display_data"
    }
   ],
   "execution_count": 11
  },
  {
   "cell_type": "markdown",
   "id": "d65ef89e",
   "metadata": {},
   "source": [
    "### 2.2 Lineares Regressionsmodell bestimmen\n",
    "Die zu bestimmende lineare Funktion soll folgendermaßen lauten:\n",
    "$$y = ax + b$$ mit der Steigung $a$ und dem Achsenabschnitt $b$.\n",
    "\n",
    "$a$ und $b$ werden so angepasst, dass für die Jahre $x$ die geschätzte Maisproduktion $\\hat y$ möglichst gering von der tatsächlichen Produktion $y$ abweicht.\n",
    "\n",
    "Der Abstand zwischen allen $y$ und den zugehörigen geschätzten $\\hat y$ gibt an, wie gut die einzelnen Koeffizienten (Steigung) und der Achsenabschnitt geschätzt wurden und soll möglichst klein sein:\n",
    "$$\\sum\\limits_{i=0}^{n}\\left(y_i-\\hat y_i \\right)^2 \\stackrel{!}{=} min$$"
   ]
  },
  {
   "cell_type": "code",
   "id": "fb240af8",
   "metadata": {
    "ExecuteTime": {
     "end_time": "2025-05-10T17:19:42.745009Z",
     "start_time": "2025-05-10T17:19:42.276737Z"
    }
   },
   "source": [
    "from sklearn.linear_model import LinearRegression\n",
    "\n",
    "# Anlegen (einer Hülle für das) lineare Regressionsmodell\n",
    "mais_model = LinearRegression()\n",
    "# mais_model.fit(data['Jahr'], data['Maisproduktion']) # geht nicht, da Daten im falschen Format vorliegen"
   ],
   "outputs": [],
   "execution_count": 12
  },
  {
   "cell_type": "markdown",
   "id": "0767e06b",
   "metadata": {},
   "source": [
    "**Wichtig:** Formatierung der Jahre von Zeilen- in Spaltenvektoren"
   ]
  },
  {
   "cell_type": "code",
   "id": "916fd0cb",
   "metadata": {
    "ExecuteTime": {
     "end_time": "2025-05-10T17:19:42.757321Z",
     "start_time": "2025-05-10T17:19:42.752939Z"
    }
   },
   "source": [
    "import numpy as np\n",
    "# Umformatierung der Jahre in Spaltenvektor notwendig, da nur ein Merkmal mit mehreren Beobachtungen vorliegt\n",
    "## es könnten auch mehrere Merkmale wie Sonneneinstrahlung, Bodenbeschaffenheit, ... vorliegen\n",
    "x = data['Jahr'].to_numpy().reshape(-1,1) \n",
    "\n",
    "mais_model.fit(x, data['Maisproduktion']) # Schätzen des linearen Regressionsmodells --> a, b"
   ],
   "outputs": [
    {
     "data": {
      "text/plain": [
       "LinearRegression()"
      ],
      "text/html": [
       "<style>#sk-container-id-1 {\n",
       "  /* Definition of color scheme common for light and dark mode */\n",
       "  --sklearn-color-text: #000;\n",
       "  --sklearn-color-text-muted: #666;\n",
       "  --sklearn-color-line: gray;\n",
       "  /* Definition of color scheme for unfitted estimators */\n",
       "  --sklearn-color-unfitted-level-0: #fff5e6;\n",
       "  --sklearn-color-unfitted-level-1: #f6e4d2;\n",
       "  --sklearn-color-unfitted-level-2: #ffe0b3;\n",
       "  --sklearn-color-unfitted-level-3: chocolate;\n",
       "  /* Definition of color scheme for fitted estimators */\n",
       "  --sklearn-color-fitted-level-0: #f0f8ff;\n",
       "  --sklearn-color-fitted-level-1: #d4ebff;\n",
       "  --sklearn-color-fitted-level-2: #b3dbfd;\n",
       "  --sklearn-color-fitted-level-3: cornflowerblue;\n",
       "\n",
       "  /* Specific color for light theme */\n",
       "  --sklearn-color-text-on-default-background: var(--sg-text-color, var(--theme-code-foreground, var(--jp-content-font-color1, black)));\n",
       "  --sklearn-color-background: var(--sg-background-color, var(--theme-background, var(--jp-layout-color0, white)));\n",
       "  --sklearn-color-border-box: var(--sg-text-color, var(--theme-code-foreground, var(--jp-content-font-color1, black)));\n",
       "  --sklearn-color-icon: #696969;\n",
       "\n",
       "  @media (prefers-color-scheme: dark) {\n",
       "    /* Redefinition of color scheme for dark theme */\n",
       "    --sklearn-color-text-on-default-background: var(--sg-text-color, var(--theme-code-foreground, var(--jp-content-font-color1, white)));\n",
       "    --sklearn-color-background: var(--sg-background-color, var(--theme-background, var(--jp-layout-color0, #111)));\n",
       "    --sklearn-color-border-box: var(--sg-text-color, var(--theme-code-foreground, var(--jp-content-font-color1, white)));\n",
       "    --sklearn-color-icon: #878787;\n",
       "  }\n",
       "}\n",
       "\n",
       "#sk-container-id-1 {\n",
       "  color: var(--sklearn-color-text);\n",
       "}\n",
       "\n",
       "#sk-container-id-1 pre {\n",
       "  padding: 0;\n",
       "}\n",
       "\n",
       "#sk-container-id-1 input.sk-hidden--visually {\n",
       "  border: 0;\n",
       "  clip: rect(1px 1px 1px 1px);\n",
       "  clip: rect(1px, 1px, 1px, 1px);\n",
       "  height: 1px;\n",
       "  margin: -1px;\n",
       "  overflow: hidden;\n",
       "  padding: 0;\n",
       "  position: absolute;\n",
       "  width: 1px;\n",
       "}\n",
       "\n",
       "#sk-container-id-1 div.sk-dashed-wrapped {\n",
       "  border: 1px dashed var(--sklearn-color-line);\n",
       "  margin: 0 0.4em 0.5em 0.4em;\n",
       "  box-sizing: border-box;\n",
       "  padding-bottom: 0.4em;\n",
       "  background-color: var(--sklearn-color-background);\n",
       "}\n",
       "\n",
       "#sk-container-id-1 div.sk-container {\n",
       "  /* jupyter's `normalize.less` sets `[hidden] { display: none; }`\n",
       "     but bootstrap.min.css set `[hidden] { display: none !important; }`\n",
       "     so we also need the `!important` here to be able to override the\n",
       "     default hidden behavior on the sphinx rendered scikit-learn.org.\n",
       "     See: https://github.com/scikit-learn/scikit-learn/issues/21755 */\n",
       "  display: inline-block !important;\n",
       "  position: relative;\n",
       "}\n",
       "\n",
       "#sk-container-id-1 div.sk-text-repr-fallback {\n",
       "  display: none;\n",
       "}\n",
       "\n",
       "div.sk-parallel-item,\n",
       "div.sk-serial,\n",
       "div.sk-item {\n",
       "  /* draw centered vertical line to link estimators */\n",
       "  background-image: linear-gradient(var(--sklearn-color-text-on-default-background), var(--sklearn-color-text-on-default-background));\n",
       "  background-size: 2px 100%;\n",
       "  background-repeat: no-repeat;\n",
       "  background-position: center center;\n",
       "}\n",
       "\n",
       "/* Parallel-specific style estimator block */\n",
       "\n",
       "#sk-container-id-1 div.sk-parallel-item::after {\n",
       "  content: \"\";\n",
       "  width: 100%;\n",
       "  border-bottom: 2px solid var(--sklearn-color-text-on-default-background);\n",
       "  flex-grow: 1;\n",
       "}\n",
       "\n",
       "#sk-container-id-1 div.sk-parallel {\n",
       "  display: flex;\n",
       "  align-items: stretch;\n",
       "  justify-content: center;\n",
       "  background-color: var(--sklearn-color-background);\n",
       "  position: relative;\n",
       "}\n",
       "\n",
       "#sk-container-id-1 div.sk-parallel-item {\n",
       "  display: flex;\n",
       "  flex-direction: column;\n",
       "}\n",
       "\n",
       "#sk-container-id-1 div.sk-parallel-item:first-child::after {\n",
       "  align-self: flex-end;\n",
       "  width: 50%;\n",
       "}\n",
       "\n",
       "#sk-container-id-1 div.sk-parallel-item:last-child::after {\n",
       "  align-self: flex-start;\n",
       "  width: 50%;\n",
       "}\n",
       "\n",
       "#sk-container-id-1 div.sk-parallel-item:only-child::after {\n",
       "  width: 0;\n",
       "}\n",
       "\n",
       "/* Serial-specific style estimator block */\n",
       "\n",
       "#sk-container-id-1 div.sk-serial {\n",
       "  display: flex;\n",
       "  flex-direction: column;\n",
       "  align-items: center;\n",
       "  background-color: var(--sklearn-color-background);\n",
       "  padding-right: 1em;\n",
       "  padding-left: 1em;\n",
       "}\n",
       "\n",
       "\n",
       "/* Toggleable style: style used for estimator/Pipeline/ColumnTransformer box that is\n",
       "clickable and can be expanded/collapsed.\n",
       "- Pipeline and ColumnTransformer use this feature and define the default style\n",
       "- Estimators will overwrite some part of the style using the `sk-estimator` class\n",
       "*/\n",
       "\n",
       "/* Pipeline and ColumnTransformer style (default) */\n",
       "\n",
       "#sk-container-id-1 div.sk-toggleable {\n",
       "  /* Default theme specific background. It is overwritten whether we have a\n",
       "  specific estimator or a Pipeline/ColumnTransformer */\n",
       "  background-color: var(--sklearn-color-background);\n",
       "}\n",
       "\n",
       "/* Toggleable label */\n",
       "#sk-container-id-1 label.sk-toggleable__label {\n",
       "  cursor: pointer;\n",
       "  display: flex;\n",
       "  width: 100%;\n",
       "  margin-bottom: 0;\n",
       "  padding: 0.5em;\n",
       "  box-sizing: border-box;\n",
       "  text-align: center;\n",
       "  align-items: start;\n",
       "  justify-content: space-between;\n",
       "  gap: 0.5em;\n",
       "}\n",
       "\n",
       "#sk-container-id-1 label.sk-toggleable__label .caption {\n",
       "  font-size: 0.6rem;\n",
       "  font-weight: lighter;\n",
       "  color: var(--sklearn-color-text-muted);\n",
       "}\n",
       "\n",
       "#sk-container-id-1 label.sk-toggleable__label-arrow:before {\n",
       "  /* Arrow on the left of the label */\n",
       "  content: \"▸\";\n",
       "  float: left;\n",
       "  margin-right: 0.25em;\n",
       "  color: var(--sklearn-color-icon);\n",
       "}\n",
       "\n",
       "#sk-container-id-1 label.sk-toggleable__label-arrow:hover:before {\n",
       "  color: var(--sklearn-color-text);\n",
       "}\n",
       "\n",
       "/* Toggleable content - dropdown */\n",
       "\n",
       "#sk-container-id-1 div.sk-toggleable__content {\n",
       "  max-height: 0;\n",
       "  max-width: 0;\n",
       "  overflow: hidden;\n",
       "  text-align: left;\n",
       "  /* unfitted */\n",
       "  background-color: var(--sklearn-color-unfitted-level-0);\n",
       "}\n",
       "\n",
       "#sk-container-id-1 div.sk-toggleable__content.fitted {\n",
       "  /* fitted */\n",
       "  background-color: var(--sklearn-color-fitted-level-0);\n",
       "}\n",
       "\n",
       "#sk-container-id-1 div.sk-toggleable__content pre {\n",
       "  margin: 0.2em;\n",
       "  border-radius: 0.25em;\n",
       "  color: var(--sklearn-color-text);\n",
       "  /* unfitted */\n",
       "  background-color: var(--sklearn-color-unfitted-level-0);\n",
       "}\n",
       "\n",
       "#sk-container-id-1 div.sk-toggleable__content.fitted pre {\n",
       "  /* unfitted */\n",
       "  background-color: var(--sklearn-color-fitted-level-0);\n",
       "}\n",
       "\n",
       "#sk-container-id-1 input.sk-toggleable__control:checked~div.sk-toggleable__content {\n",
       "  /* Expand drop-down */\n",
       "  max-height: 200px;\n",
       "  max-width: 100%;\n",
       "  overflow: auto;\n",
       "}\n",
       "\n",
       "#sk-container-id-1 input.sk-toggleable__control:checked~label.sk-toggleable__label-arrow:before {\n",
       "  content: \"▾\";\n",
       "}\n",
       "\n",
       "/* Pipeline/ColumnTransformer-specific style */\n",
       "\n",
       "#sk-container-id-1 div.sk-label input.sk-toggleable__control:checked~label.sk-toggleable__label {\n",
       "  color: var(--sklearn-color-text);\n",
       "  background-color: var(--sklearn-color-unfitted-level-2);\n",
       "}\n",
       "\n",
       "#sk-container-id-1 div.sk-label.fitted input.sk-toggleable__control:checked~label.sk-toggleable__label {\n",
       "  background-color: var(--sklearn-color-fitted-level-2);\n",
       "}\n",
       "\n",
       "/* Estimator-specific style */\n",
       "\n",
       "/* Colorize estimator box */\n",
       "#sk-container-id-1 div.sk-estimator input.sk-toggleable__control:checked~label.sk-toggleable__label {\n",
       "  /* unfitted */\n",
       "  background-color: var(--sklearn-color-unfitted-level-2);\n",
       "}\n",
       "\n",
       "#sk-container-id-1 div.sk-estimator.fitted input.sk-toggleable__control:checked~label.sk-toggleable__label {\n",
       "  /* fitted */\n",
       "  background-color: var(--sklearn-color-fitted-level-2);\n",
       "}\n",
       "\n",
       "#sk-container-id-1 div.sk-label label.sk-toggleable__label,\n",
       "#sk-container-id-1 div.sk-label label {\n",
       "  /* The background is the default theme color */\n",
       "  color: var(--sklearn-color-text-on-default-background);\n",
       "}\n",
       "\n",
       "/* On hover, darken the color of the background */\n",
       "#sk-container-id-1 div.sk-label:hover label.sk-toggleable__label {\n",
       "  color: var(--sklearn-color-text);\n",
       "  background-color: var(--sklearn-color-unfitted-level-2);\n",
       "}\n",
       "\n",
       "/* Label box, darken color on hover, fitted */\n",
       "#sk-container-id-1 div.sk-label.fitted:hover label.sk-toggleable__label.fitted {\n",
       "  color: var(--sklearn-color-text);\n",
       "  background-color: var(--sklearn-color-fitted-level-2);\n",
       "}\n",
       "\n",
       "/* Estimator label */\n",
       "\n",
       "#sk-container-id-1 div.sk-label label {\n",
       "  font-family: monospace;\n",
       "  font-weight: bold;\n",
       "  display: inline-block;\n",
       "  line-height: 1.2em;\n",
       "}\n",
       "\n",
       "#sk-container-id-1 div.sk-label-container {\n",
       "  text-align: center;\n",
       "}\n",
       "\n",
       "/* Estimator-specific */\n",
       "#sk-container-id-1 div.sk-estimator {\n",
       "  font-family: monospace;\n",
       "  border: 1px dotted var(--sklearn-color-border-box);\n",
       "  border-radius: 0.25em;\n",
       "  box-sizing: border-box;\n",
       "  margin-bottom: 0.5em;\n",
       "  /* unfitted */\n",
       "  background-color: var(--sklearn-color-unfitted-level-0);\n",
       "}\n",
       "\n",
       "#sk-container-id-1 div.sk-estimator.fitted {\n",
       "  /* fitted */\n",
       "  background-color: var(--sklearn-color-fitted-level-0);\n",
       "}\n",
       "\n",
       "/* on hover */\n",
       "#sk-container-id-1 div.sk-estimator:hover {\n",
       "  /* unfitted */\n",
       "  background-color: var(--sklearn-color-unfitted-level-2);\n",
       "}\n",
       "\n",
       "#sk-container-id-1 div.sk-estimator.fitted:hover {\n",
       "  /* fitted */\n",
       "  background-color: var(--sklearn-color-fitted-level-2);\n",
       "}\n",
       "\n",
       "/* Specification for estimator info (e.g. \"i\" and \"?\") */\n",
       "\n",
       "/* Common style for \"i\" and \"?\" */\n",
       "\n",
       ".sk-estimator-doc-link,\n",
       "a:link.sk-estimator-doc-link,\n",
       "a:visited.sk-estimator-doc-link {\n",
       "  float: right;\n",
       "  font-size: smaller;\n",
       "  line-height: 1em;\n",
       "  font-family: monospace;\n",
       "  background-color: var(--sklearn-color-background);\n",
       "  border-radius: 1em;\n",
       "  height: 1em;\n",
       "  width: 1em;\n",
       "  text-decoration: none !important;\n",
       "  margin-left: 0.5em;\n",
       "  text-align: center;\n",
       "  /* unfitted */\n",
       "  border: var(--sklearn-color-unfitted-level-1) 1pt solid;\n",
       "  color: var(--sklearn-color-unfitted-level-1);\n",
       "}\n",
       "\n",
       ".sk-estimator-doc-link.fitted,\n",
       "a:link.sk-estimator-doc-link.fitted,\n",
       "a:visited.sk-estimator-doc-link.fitted {\n",
       "  /* fitted */\n",
       "  border: var(--sklearn-color-fitted-level-1) 1pt solid;\n",
       "  color: var(--sklearn-color-fitted-level-1);\n",
       "}\n",
       "\n",
       "/* On hover */\n",
       "div.sk-estimator:hover .sk-estimator-doc-link:hover,\n",
       ".sk-estimator-doc-link:hover,\n",
       "div.sk-label-container:hover .sk-estimator-doc-link:hover,\n",
       ".sk-estimator-doc-link:hover {\n",
       "  /* unfitted */\n",
       "  background-color: var(--sklearn-color-unfitted-level-3);\n",
       "  color: var(--sklearn-color-background);\n",
       "  text-decoration: none;\n",
       "}\n",
       "\n",
       "div.sk-estimator.fitted:hover .sk-estimator-doc-link.fitted:hover,\n",
       ".sk-estimator-doc-link.fitted:hover,\n",
       "div.sk-label-container:hover .sk-estimator-doc-link.fitted:hover,\n",
       ".sk-estimator-doc-link.fitted:hover {\n",
       "  /* fitted */\n",
       "  background-color: var(--sklearn-color-fitted-level-3);\n",
       "  color: var(--sklearn-color-background);\n",
       "  text-decoration: none;\n",
       "}\n",
       "\n",
       "/* Span, style for the box shown on hovering the info icon */\n",
       ".sk-estimator-doc-link span {\n",
       "  display: none;\n",
       "  z-index: 9999;\n",
       "  position: relative;\n",
       "  font-weight: normal;\n",
       "  right: .2ex;\n",
       "  padding: .5ex;\n",
       "  margin: .5ex;\n",
       "  width: min-content;\n",
       "  min-width: 20ex;\n",
       "  max-width: 50ex;\n",
       "  color: var(--sklearn-color-text);\n",
       "  box-shadow: 2pt 2pt 4pt #999;\n",
       "  /* unfitted */\n",
       "  background: var(--sklearn-color-unfitted-level-0);\n",
       "  border: .5pt solid var(--sklearn-color-unfitted-level-3);\n",
       "}\n",
       "\n",
       ".sk-estimator-doc-link.fitted span {\n",
       "  /* fitted */\n",
       "  background: var(--sklearn-color-fitted-level-0);\n",
       "  border: var(--sklearn-color-fitted-level-3);\n",
       "}\n",
       "\n",
       ".sk-estimator-doc-link:hover span {\n",
       "  display: block;\n",
       "}\n",
       "\n",
       "/* \"?\"-specific style due to the `<a>` HTML tag */\n",
       "\n",
       "#sk-container-id-1 a.estimator_doc_link {\n",
       "  float: right;\n",
       "  font-size: 1rem;\n",
       "  line-height: 1em;\n",
       "  font-family: monospace;\n",
       "  background-color: var(--sklearn-color-background);\n",
       "  border-radius: 1rem;\n",
       "  height: 1rem;\n",
       "  width: 1rem;\n",
       "  text-decoration: none;\n",
       "  /* unfitted */\n",
       "  color: var(--sklearn-color-unfitted-level-1);\n",
       "  border: var(--sklearn-color-unfitted-level-1) 1pt solid;\n",
       "}\n",
       "\n",
       "#sk-container-id-1 a.estimator_doc_link.fitted {\n",
       "  /* fitted */\n",
       "  border: var(--sklearn-color-fitted-level-1) 1pt solid;\n",
       "  color: var(--sklearn-color-fitted-level-1);\n",
       "}\n",
       "\n",
       "/* On hover */\n",
       "#sk-container-id-1 a.estimator_doc_link:hover {\n",
       "  /* unfitted */\n",
       "  background-color: var(--sklearn-color-unfitted-level-3);\n",
       "  color: var(--sklearn-color-background);\n",
       "  text-decoration: none;\n",
       "}\n",
       "\n",
       "#sk-container-id-1 a.estimator_doc_link.fitted:hover {\n",
       "  /* fitted */\n",
       "  background-color: var(--sklearn-color-fitted-level-3);\n",
       "}\n",
       "</style><div id=\"sk-container-id-1\" class=\"sk-top-container\"><div class=\"sk-text-repr-fallback\"><pre>LinearRegression()</pre><b>In a Jupyter environment, please rerun this cell to show the HTML representation or trust the notebook. <br />On GitHub, the HTML representation is unable to render, please try loading this page with nbviewer.org.</b></div><div class=\"sk-container\" hidden><div class=\"sk-item\"><div class=\"sk-estimator fitted sk-toggleable\"><input class=\"sk-toggleable__control sk-hidden--visually\" id=\"sk-estimator-id-1\" type=\"checkbox\" checked><label for=\"sk-estimator-id-1\" class=\"sk-toggleable__label fitted sk-toggleable__label-arrow\"><div><div>LinearRegression</div></div><div><a class=\"sk-estimator-doc-link fitted\" rel=\"noreferrer\" target=\"_blank\" href=\"https://scikit-learn.org/1.7/modules/generated/sklearn.linear_model.LinearRegression.html\">?<span>Documentation for LinearRegression</span></a><span class=\"sk-estimator-doc-link fitted\">i<span>Fitted</span></span></div></label><div class=\"sk-toggleable__content fitted\"><pre>LinearRegression()</pre></div> </div></div></div></div>"
      ]
     },
     "execution_count": 13,
     "metadata": {},
     "output_type": "execute_result"
    }
   ],
   "execution_count": 13
  },
  {
   "cell_type": "markdown",
   "id": "c33eb05c",
   "metadata": {},
   "source": [
    "#### Steigung und Achsenabschnitt erhalten"
   ]
  },
  {
   "cell_type": "code",
   "id": "1c8ab13c",
   "metadata": {
    "ExecuteTime": {
     "end_time": "2025-05-10T17:19:42.937380Z",
     "start_time": "2025-05-10T17:19:42.932532Z"
    }
   },
   "source": [
    "mais_model.coef_ # array mit Koeffizienten --> Steigung bzw. a\n",
    "mais_model.intercept_  # Achsenabschnitt (b)"
   ],
   "outputs": [
    {
     "data": {
      "text/plain": [
       "np.float64(-19357.769953051644)"
      ]
     },
     "execution_count": 14,
     "metadata": {},
     "output_type": "execute_result"
    }
   ],
   "execution_count": 14
  },
  {
   "cell_type": "code",
   "id": "ff5339d4",
   "metadata": {
    "ExecuteTime": {
     "end_time": "2025-05-10T17:19:43.010265Z",
     "start_time": "2025-05-10T17:19:43.007245Z"
    }
   },
   "source": [
    "print('Die Gleichung der Regressionsgeraden für die Weltmaisproduktion lautet: y = %.2fx %.2f' \n",
    "      %(mais_model.coef_, mais_model.intercept_))"
   ],
   "outputs": [
    {
     "name": "stdout",
     "output_type": "stream",
     "text": [
      "Die Gleichung der Regressionsgeraden für die Weltmaisproduktion lautet: y = 9.98x -19357.77\n"
     ]
    },
    {
     "name": "stderr",
     "output_type": "stream",
     "text": [
      "/tmp/ipykernel_8729/3419353291.py:1: DeprecationWarning: Conversion of an array with ndim > 0 to a scalar is deprecated, and will error in future. Ensure you extract a single element from your array before performing this operation. (Deprecated NumPy 1.25.)\n",
      "  print('Die Gleichung der Regressionsgeraden für die Weltmaisproduktion lautet: y = %.2fx %.2f'\n"
     ]
    }
   ],
   "execution_count": 15
  },
  {
   "cell_type": "markdown",
   "id": "0ae39d1d",
   "metadata": {},
   "source": [
    "### 2.3 Regressionskurve +Korrelationskoeffizient bestimmen\n",
    "#### Schätzungen der Maisproduktion mithilfe des Modells"
   ]
  },
  {
   "cell_type": "code",
   "id": "c9cd60f5",
   "metadata": {
    "ExecuteTime": {
     "end_time": "2025-05-10T17:19:43.064714Z",
     "start_time": "2025-05-10T17:19:43.060863Z"
    }
   },
   "source": [
    "y_predict = mais_model.predict(x) # Schätzung mithilfe des Modells der Maisproduktion der bisherigen Produktionsjahre\n",
    "y_predict "
   ],
   "outputs": [
    {
     "data": {
      "text/plain": [
       "array([212.78403756, 312.63380282, 412.48356808, 512.33333333,\n",
       "       612.18309859, 622.16807512, 632.15305164, 642.13802817,\n",
       "       652.12300469])"
      ]
     },
     "execution_count": 16,
     "metadata": {},
     "output_type": "execute_result"
    }
   ],
   "execution_count": 16
  },
  {
   "cell_type": "markdown",
   "id": "7271f9a5",
   "metadata": {},
   "source": [
    "Prognose für das \"nächste\" Jahr 2005:"
   ]
  },
  {
   "cell_type": "code",
   "id": "412b2e56",
   "metadata": {
    "ExecuteTime": {
     "end_time": "2025-05-10T17:19:43.118704Z",
     "start_time": "2025-05-10T17:19:43.114874Z"
    }
   },
   "source": [
    "mais_model.predict([[2005]])"
   ],
   "outputs": [
    {
     "data": {
      "text/plain": [
       "array([662.10798122])"
      ]
     },
     "execution_count": 17,
     "metadata": {},
     "output_type": "execute_result"
    }
   ],
   "execution_count": 17
  },
  {
   "cell_type": "markdown",
   "id": "54e17ec7",
   "metadata": {},
   "source": [
    "#### Visualisierung der Regressionsgeraden"
   ]
  },
  {
   "cell_type": "code",
   "id": "7228c175",
   "metadata": {
    "ExecuteTime": {
     "end_time": "2025-05-10T17:19:43.259529Z",
     "start_time": "2025-05-10T17:19:43.172442Z"
    }
   },
   "source": [
    "plt.scatter(data['Jahr'], data['Maisproduktion'], marker='x')\n",
    "\n",
    "plt.plot(data['Jahr'], y_predict, color='red') #linewidth=3\n",
    "\n",
    "plt.xlabel('Jahr')\n",
    "plt.ylabel('Mio. Tonnen')\n",
    "plt.title('Weltmaisproduktion')\n",
    "plt.show()"
   ],
   "outputs": [
    {
     "data": {
      "text/plain": [
       "<Figure size 640x480 with 1 Axes>"
      ],
      "image/png": "[encoded data removed]"
     },
     "metadata": {},
     "output_type": "display_data"
    }
   ],
   "execution_count": 18
  },
  {
   "cell_type": "markdown",
   "id": "d01e8175",
   "metadata": {},
   "source": [
    "#### (Pearson/) Linearer Korrelationskoeffizient $r_{xy}$\n",
    "$r_{xy} \\in [-1;1]$"
   ]
  },
  {
   "cell_type": "code",
   "id": "1e095a54",
   "metadata": {
    "ExecuteTime": {
     "end_time": "2025-05-10T17:19:43.277553Z",
     "start_time": "2025-05-10T17:19:43.273729Z"
    }
   },
   "source": [
    "np.corrcoef(data['Jahr'], data['Maisproduktion'])"
   ],
   "outputs": [
    {
     "data": {
      "text/plain": [
       "array([[1.        , 0.98935241],\n",
       "       [0.98935241, 1.        ]])"
      ]
     },
     "execution_count": 19,
     "metadata": {},
     "output_type": "execute_result"
    }
   ],
   "execution_count": 19
  },
  {
   "cell_type": "code",
   "id": "d4697ddd",
   "metadata": {
    "ExecuteTime": {
     "end_time": "2025-05-10T17:19:43.321126Z",
     "start_time": "2025-05-10T17:19:43.317219Z"
    }
   },
   "source": [
    "rxy = np.corrcoef(data['Jahr'], data['Maisproduktion'])[0,1]\n",
    "\n",
    "print('Der lineare Korrelationskoeffizient für das Jahr mit der Maisproduktion lautet: %.4f' \n",
    "      %rxy)"
   ],
   "outputs": [
    {
     "name": "stdout",
     "output_type": "stream",
     "text": [
      "Der lineare Korrelationskoeffizient für das Jahr mit der Maisproduktion lautet: 0.9894\n"
     ]
    }
   ],
   "execution_count": 20
  },
  {
   "cell_type": "markdown",
   "id": "a4a9fe3d",
   "metadata": {},
   "source": [
    "#### Bestimmtheitsmaß $R^2$ im Gegensatz zum linearen Korrelationskoeffizienten\n",
    "$R^2 \\in [0;1]$\n",
    "\n",
    "**Achtung:** nur im linearen Fall gilt: $R^2 = (r_{xy})^2$"
   ]
  },
  {
   "cell_type": "code",
   "id": "1e8005cf",
   "metadata": {
    "ExecuteTime": {
     "end_time": "2025-05-10T17:19:43.378168Z",
     "start_time": "2025-05-10T17:19:43.372966Z"
    }
   },
   "source": [
    "mais_model.score(x, data['Maisproduktion'])#.round(4)"
   ],
   "outputs": [
    {
     "data": {
      "text/plain": [
       "0.978818197013097"
      ]
     },
     "execution_count": 21,
     "metadata": {},
     "output_type": "execute_result"
    }
   ],
   "execution_count": 21
  },
  {
   "cell_type": "markdown",
   "id": "ab44add8",
   "metadata": {},
   "source": [
    "## 3. Polynom 2. Grades\n",
    "### 3.1 Preprocessing\n",
    "$y = a_1 \\cdot x^2 + a_2 \\cdot x + b$\n",
    "\n",
    "Da Jahreszahlen quadriert sehr groß werden und somit $a_1$ stärker gewichtet wäre, muss ein Vorverarbeitungsschritt (Preprocessing) eingebaut werden.\n",
    "\n",
    "#### Standardisierung der Jahreszahlen\n",
    "$x_{scaled}=\\frac{x-\\bar x}{s} \\to \\bar x_{scaled} = 0, s_{scaled}=1$"
   ]
  },
  {
   "cell_type": "code",
   "id": "94cd2f50",
   "metadata": {
    "ExecuteTime": {
     "end_time": "2025-05-10T17:19:43.444073Z",
     "start_time": "2025-05-10T17:19:43.438641Z"
    }
   },
   "source": [
    "from sklearn.preprocessing import StandardScaler\n",
    "\n",
    "x_scaled = StandardScaler().fit_transform(x)\n",
    "x_scaled"
   ],
   "outputs": [
    {
     "data": {
      "text/plain": [
       "array([[-1.95008126],\n",
       "       [-1.30005417],\n",
       "       [-0.65002709],\n",
       "       [ 0.        ],\n",
       "       [ 0.65002709],\n",
       "       [ 0.71502979],\n",
       "       [ 0.7800325 ],\n",
       "       [ 0.84503521],\n",
       "       [ 0.91003792]])"
      ]
     },
     "execution_count": 22,
     "metadata": {},
     "output_type": "execute_result"
    }
   ],
   "execution_count": 22
  },
  {
   "cell_type": "markdown",
   "id": "9ec038f0",
   "metadata": {},
   "source": [
    "#### Features erzeugen (auch quadriert)"
   ]
  },
  {
   "cell_type": "code",
   "id": "bbf956cc",
   "metadata": {
    "ExecuteTime": {
     "end_time": "2025-05-10T17:19:43.535124Z",
     "start_time": "2025-05-10T17:19:43.531063Z"
    }
   },
   "source": [
    "from sklearn.preprocessing import PolynomialFeatures\n",
    "\n",
    "quad_jahr = PolynomialFeatures(degree=2, include_bias=False).fit_transform(x_scaled)\n",
    "# mit bias=True wäre 1. Spalte für Schätzung von b dabei; Steigung/Offset soll aber seperat geschätzt werden (aktuell überall 1)\n",
    "quad_jahr"
   ],
   "outputs": [
    {
     "data": {
      "text/plain": [
       "array([[-1.95008126,  3.8028169 ],\n",
       "       [-1.30005417,  1.69014085],\n",
       "       [-0.65002709,  0.42253521],\n",
       "       [ 0.        ,  0.        ],\n",
       "       [ 0.65002709,  0.42253521],\n",
       "       [ 0.71502979,  0.51126761],\n",
       "       [ 0.7800325 ,  0.6084507 ],\n",
       "       [ 0.84503521,  0.71408451],\n",
       "       [ 0.91003792,  0.82816901]])"
      ]
     },
     "execution_count": 23,
     "metadata": {},
     "output_type": "execute_result"
    }
   ],
   "execution_count": 23
  },
  {
   "cell_type": "markdown",
   "id": "e3959287",
   "metadata": {},
   "source": [
    "### 3.2 Modell bestimmen\n",
    "*Modell weiterhin als lineare Regression anlegen, da $x$ und $x^2$ als separate Parameter/Features betrachtet werden können.*"
   ]
  },
  {
   "cell_type": "code",
   "id": "66fa306e",
   "metadata": {
    "ExecuteTime": {
     "end_time": "2025-05-10T17:19:43.585958Z",
     "start_time": "2025-05-10T17:19:43.580033Z"
    }
   },
   "source": [
    "quad_mais_model = LinearRegression()\n",
    "quad_mais_model.fit(quad_jahr, data['Maisproduktion'])\n",
    "\n",
    "quad_mais_model.coef_              # erste Stelle a_2, zweite a_1\n",
    "quad_mais_model.intercept_         # gibt bias/Steigung an (b)"
   ],
   "outputs": [
    {
     "data": {
      "text/plain": [
       "np.float64(507.8632607341388)"
      ]
     },
     "execution_count": 24,
     "metadata": {},
     "output_type": "execute_result"
    }
   ],
   "execution_count": 24
  },
  {
   "cell_type": "markdown",
   "id": "0b1abc4a",
   "metadata": {},
   "source": [
    "### 3.3 Regressionskurve + Bestimmtheitsmaß bestimmen"
   ]
  },
  {
   "cell_type": "code",
   "id": "eef550e2",
   "metadata": {
    "ExecuteTime": {
     "end_time": "2025-05-10T17:19:43.725277Z",
     "start_time": "2025-05-10T17:19:43.626788Z"
    }
   },
   "source": [
    "quad_mais_predict = quad_mais_model.predict(quad_jahr) # Schätzung der Maisproduktion mithilfe des Modells\n",
    "\n",
    "plt.scatter(data['Jahr'], data['Maisproduktion'], marker='x')\n",
    "plt.plot(x,quad_mais_predict,color='red')\n",
    "\n",
    "plt.xlabel('Jahr')\n",
    "plt.ylabel('Mio. Tonnen')\n",
    "plt.title('Steudiagramm der Weltmaisproduktion')\n",
    "plt.show()"
   ],
   "outputs": [
    {
     "data": {
      "text/plain": [
       "<Figure size 640x480 with 1 Axes>"
      ],
      "image/png": "[encoded data removed]"
     },
     "metadata": {},
     "output_type": "display_data"
    }
   ],
   "execution_count": 25
  },
  {
   "cell_type": "code",
   "id": "7a4d4862",
   "metadata": {
    "ExecuteTime": {
     "end_time": "2025-05-10T17:19:43.796308Z",
     "start_time": "2025-05-10T17:19:43.779962Z"
    }
   },
   "source": [
    "r_sqr_quad = quad_mais_model.score(quad_jahr, data['Maisproduktion'])\n",
    "print('Das Bestimmtheitsmaß lautet: %.4f' % r_sqr_quad)"
   ],
   "outputs": [
    {
     "name": "stdout",
     "output_type": "stream",
     "text": [
      "Das Bestimmtheitsmaß lautet: 0.9792\n"
     ]
    }
   ],
   "execution_count": 26
  },
  {
   "cell_type": "markdown",
   "id": "b2527787",
   "metadata": {},
   "source": [
    "## 4. Polynom 6. Grades\n",
    "### 4.1 Modell bestimmen\n",
    "$y = b + a_1 \\cdot x + a_2 \\cdot x^2 + a_3 \\cdot x^3 + a_4 \\cdot x^4 + a_5 \\cdot x^5 + a_6 \\cdot x^6$"
   ]
  },
  {
   "cell_type": "code",
   "id": "77f8c1e9",
   "metadata": {
    "ExecuteTime": {
     "end_time": "2025-05-10T17:19:43.857448Z",
     "start_time": "2025-05-10T17:19:43.850241Z"
    }
   },
   "source": [
    "six_jahr = PolynomialFeatures(degree=6, include_bias=False).fit_transform(x_scaled)\n",
    "\n",
    "six_mais_model = LinearRegression()\n",
    "six_mais_model.fit(six_jahr, data['Maisproduktion']) # Maisdaten sind die y Werte\n",
    "\n",
    "six_mais_model.coef_\n",
    "six_mais_model.intercept_"
   ],
   "outputs": [
    {
     "data": {
      "text/plain": [
       "np.float64(519.8557165986157)"
      ]
     },
     "execution_count": 27,
     "metadata": {},
     "output_type": "execute_result"
    }
   ],
   "execution_count": 27
  },
  {
   "cell_type": "markdown",
   "id": "93ae83ca",
   "metadata": {},
   "source": [
    "###  4.2 Bestimmheitsmaß bestimmen"
   ]
  },
  {
   "cell_type": "code",
   "id": "be6cb247",
   "metadata": {
    "ExecuteTime": {
     "end_time": "2025-05-10T17:19:43.937278Z",
     "start_time": "2025-05-10T17:19:43.932288Z"
    }
   },
   "source": [
    "r_sqr_q = six_mais_model.score(six_jahr, data['Maisproduktion'])\n",
    "print('Das Bestimmtheitsmaß lautet: %.4f' % r_sqr_q)"
   ],
   "outputs": [
    {
     "name": "stdout",
     "output_type": "stream",
     "text": [
      "Das Bestimmtheitsmaß lautet: 0.9982\n"
     ]
    }
   ],
   "execution_count": 28
  },
  {
   "cell_type": "markdown",
   "id": "fe731ba2",
   "metadata": {},
   "source": [
    "### 4.3 Regressionskurve zeichnen\n",
    "**Achtung:** Zuerst müssen mehr Jahresdaten erzeugt, da mit nur 9 Datenpunkte (Jahren) das Polynom 6. Grades nicht gut abgebildet werden kann."
   ]
  },
  {
   "cell_type": "code",
   "id": "4f393b12",
   "metadata": {
    "ExecuteTime": {
     "end_time": "2025-05-10T17:19:43.994770Z",
     "start_time": "2025-05-10T17:19:43.990841Z"
    }
   },
   "source": [
    "y = np.arange(1960, 2005).reshape(-1,1) \n",
    "\n",
    "y_scaled = (y-np.mean(x))/np.std(x) # wieder skalieren, ABER gleiche Skalierung wie x-Werte, deswegen nicht StandardScaler\n",
    "\n",
    "six_jahr_y = PolynomialFeatures(degree=6, include_bias=False).fit_transform(y_scaled)"
   ],
   "outputs": [],
   "execution_count": 29
  },
  {
   "cell_type": "code",
   "id": "05b0922d",
   "metadata": {
    "ExecuteTime": {
     "end_time": "2025-05-10T17:19:44.154378Z",
     "start_time": "2025-05-10T17:19:44.043222Z"
    }
   },
   "source": [
    "six_mais_predict = six_mais_model.predict(six_jahr_y)\n",
    "\n",
    "plt.plot(y,six_mais_predict,color='red')\n",
    "\n",
    "plt.scatter(data['Jahr'], data['Maisproduktion'], marker='x')\n",
    "plt.xlabel('Jahr')\n",
    "plt.ylabel('Mio. Tonnen')\n",
    "plt.title('Steudiagramm der Weltmaisproduktion')\n",
    "\n",
    "plt.show()"
   ],
   "outputs": [
    {
     "data": {
      "text/plain": [
       "<Figure size 640x480 with 1 Axes>"
      ],
      "image/png": "[encoded data removed]"
     },
     "metadata": {},
     "output_type": "display_data"
    }
   ],
   "execution_count": 30
  },
  {
   "cell_type": "markdown",
   "id": "78690c86",
   "metadata": {},
   "source": [
    "## 5. Regression bestimmen über e-Funktion\n",
    "### 5.1 e-Funktion anlegen\n",
    "$y = a_0 \\cdot {\\rm e}^{a_1x}$"
   ]
  },
  {
   "cell_type": "code",
   "id": "0b6eaf96",
   "metadata": {
    "ExecuteTime": {
     "end_time": "2025-05-10T17:19:44.189770Z",
     "start_time": "2025-05-10T17:19:44.183811Z"
    }
   },
   "source": [
    "# eigene Funktion definieren:\n",
    "def f_exp(x, a0,a1):\n",
    "    return a0*np.exp(x*a1)\n",
    "\n",
    "#Test:\n",
    "f_exp(1,1,1) # --> Ergebnis ist gleich e"
   ],
   "outputs": [
    {
     "data": {
      "text/plain": [
       "np.float64(2.718281828459045)"
      ]
     },
     "execution_count": 31,
     "metadata": {},
     "output_type": "execute_result"
    }
   ],
   "execution_count": 31
  },
  {
   "cell_type": "markdown",
   "id": "5777616b",
   "metadata": {},
   "source": [
    "### 5.2 Regressionskurve fitten\n",
    "Nicht mehr im linearen Fall, deswegen neue Funktion *curve_fit*:"
   ]
  },
  {
   "cell_type": "code",
   "id": "1c1b728e",
   "metadata": {
    "ExecuteTime": {
     "end_time": "2025-05-10T17:19:44.273517Z",
     "start_time": "2025-05-10T17:19:44.222874Z"
    }
   },
   "source": [
    "from scipy.optimize import curve_fit\n",
    "# Skalieren der Daten\n",
    "jahr_scaled = (data['Jahr']-np.mean(data['Jahr']))/np.std(data['Jahr'])\n",
    "\n",
    "# curve_fit(Funktion über die gefitted werden soll, x-Werte, y-Werte)\n",
    "curve_fit(f_exp, jahr_scaled, data['Maisproduktion'])  # Ausgabe 2 Arrays: 1. Koeffizienten; 2. Covarianz-Matrix\n",
    "\n",
    "# Speichern der zwei Ausgabe-Arrays in zwei Variablen\n",
    "coefs_exp, cov_exp = curve_fit(f_exp, jahr_scaled, data['Maisproduktion'])\n",
    "coefs_exp # 1. Wert im Array ist Koeffizient für a_0; zweiter für a_1"
   ],
   "outputs": [
    {
     "data": {
      "text/plain": [
       "array([4.86087581e+02, 3.45087541e-01])"
      ]
     },
     "execution_count": 32,
     "metadata": {},
     "output_type": "execute_result"
    }
   ],
   "execution_count": 32
  },
  {
   "cell_type": "markdown",
   "id": "8bb6b0a4",
   "metadata": {},
   "source": [
    "### 5.3 Modellschätzungen\n",
    "Maisproduktion mithilfe der bestimmten Koeffizienten für die einzelnen Jahre schätzen:"
   ]
  },
  {
   "cell_type": "code",
   "id": "6491398f",
   "metadata": {
    "ExecuteTime": {
     "end_time": "2025-05-10T17:19:44.368154Z",
     "start_time": "2025-05-10T17:19:44.361260Z"
    }
   },
   "source": [
    "exp_predict = f_exp(jahr_scaled, *coefs_exp) \n",
    "#mit Stern: wird genau an jedem einzelnen coeff ausgewertet/ nimmt jedes coeff\n",
    "exp_predict"
   ],
   "outputs": [
    {
     "data": {
      "text/plain": [
       "0    248.002808\n",
       "1    310.367264\n",
       "2    388.414306\n",
       "3    486.087581\n",
       "4    608.322437\n",
       "5    622.122295\n",
       "6    636.235205\n",
       "7    650.668268\n",
       "8    665.428746\n",
       "Name: Jahr, dtype: float64"
      ]
     },
     "execution_count": 33,
     "metadata": {},
     "output_type": "execute_result"
    }
   ],
   "execution_count": 33
  },
  {
   "cell_type": "markdown",
   "id": "4db26325",
   "metadata": {},
   "source": [
    "### 5.4 Regressionskurve zeichnen"
   ]
  },
  {
   "cell_type": "code",
   "id": "b1ca9551",
   "metadata": {
    "ExecuteTime": {
     "end_time": "2025-05-10T17:19:44.653035Z",
     "start_time": "2025-05-10T17:19:44.477920Z"
    }
   },
   "source": [
    "plt.plot(data['Jahr'],exp_predict,color='red')\n",
    "\n",
    "plt.scatter(data['Jahr'], data['Maisproduktion'], marker='x')\n",
    "plt.xlabel('Jahr')\n",
    "plt.ylabel('Mio. Tonnen')\n",
    "plt.title('Steudiagramm der Weltmaisproduktion')\n",
    "\n",
    "plt.show()"
   ],
   "outputs": [
    {
     "data": {
      "text/plain": [
       "<Figure size 640x480 with 1 Axes>"
      ],
      "image/png": "[encoded data removed]"
     },
     "metadata": {},
     "output_type": "display_data"
    }
   ],
   "execution_count": 34
  },
  {
   "cell_type": "markdown",
   "id": "c9abd4e9",
   "metadata": {},
   "source": [
    "### 5.5 Bestimmtheitsmaß $R^2$\n",
    "Für den allgemeinen Fall gilt (a):<br>\n",
    "$$R^2 = \\frac{SQE}{SQT} \n",
    "      = \\frac{\\sum_{i=1}^{n} \\left(\\hat y_i-\\bar{y}\\right)^2}{\\sum_{i=1}^{n} \\left(y_i - \\bar{y}\\right)^2} $$\n",
    "nur für den linearen Fall gilt (b): <br>\n",
    "$$R^2 = 1 - \\frac{\\sum_{i=1}^{n} \\left(y_i-\\hat y_i\\right)^2}{\\sum_{i=1}^{n} \\left(y_i -\\bar{y}\\right)^2}$$"
   ]
  },
  {
   "cell_type": "code",
   "id": "81de12e7",
   "metadata": {
    "ExecuteTime": {
     "end_time": "2025-05-10T17:19:44.720911Z",
     "start_time": "2025-05-10T17:19:44.711087Z"
    }
   },
   "source": [
    "# zu (a):\n",
    "y_mean = np.mean(data['Maisproduktion'])\n",
    "\n",
    "sumsquared_e = np.sum((exp_predict-y_mean)**2)\n",
    "sumsquared_t = np.sum((data['Maisproduktion']-y_mean)**2)\n",
    "\n",
    "R_squared_exp = sumsquared_e/sumsquared_t\n",
    "R_squared_exp.round(4)"
   ],
   "outputs": [
    {
     "data": {
      "text/plain": [
       "np.float64(0.949)"
      ]
     },
     "execution_count": 35,
     "metadata": {},
     "output_type": "execute_result"
    }
   ],
   "execution_count": 35
  },
  {
   "cell_type": "markdown",
   "id": "c28e0f10",
   "metadata": {},
   "source": [
    "## 6. Logarithmus-Funktion\n",
    "### 6.1 Funktion anlegen und Modell fitten\n",
    "eigentliche Funktion: $f(x) = a_0 \\cdot log(x) + a1$, es werden später aber schon die Jahre logarithmiert und von daher sieht die Funktion so aus: $$f(x) = a_0 \\cdot x_{log} + a1$$"
   ]
  },
  {
   "cell_type": "code",
   "id": "c8b2026f",
   "metadata": {
    "ExecuteTime": {
     "end_time": "2025-05-10T17:19:44.802770Z",
     "start_time": "2025-05-10T17:19:44.796979Z"
    }
   },
   "source": [
    "def f_log(z, a0,a1): return a0*z+a1"
   ],
   "outputs": [],
   "execution_count": 36
  },
  {
   "cell_type": "code",
   "id": "a261875b",
   "metadata": {
    "ExecuteTime": {
     "end_time": "2025-05-10T17:19:44.911054Z",
     "start_time": "2025-05-10T17:19:44.890618Z"
    }
   },
   "source": [
    "x_log = np.log(data['Jahr'])\n",
    "\n",
    "coefs_log, cov_log = curve_fit(f_log, x_log, data['Maisproduktion'])"
   ],
   "outputs": [],
   "execution_count": 37
  },
  {
   "cell_type": "markdown",
   "id": "7ab43630",
   "metadata": {},
   "source": [
    "### 6.2 Modellschätzung + Bestimmtheitsmaß betimmen"
   ]
  },
  {
   "cell_type": "code",
   "id": "441c92f4",
   "metadata": {
    "ExecuteTime": {
     "end_time": "2025-05-10T17:19:44.986690Z",
     "start_time": "2025-05-10T17:19:44.975849Z"
    }
   },
   "source": [
    "log_predict = f_log(x_log, *coefs_log)\n",
    "log_predict"
   ],
   "outputs": [
    {
     "data": {
      "text/plain": [
       "0    212.087598\n",
       "1    312.876237\n",
       "2    413.154552\n",
       "3    512.927684\n",
       "4    612.200698\n",
       "5    622.100686\n",
       "6    631.995727\n",
       "7    641.885827\n",
       "8    651.770991\n",
       "Name: Jahr, dtype: float64"
      ]
     },
     "execution_count": 38,
     "metadata": {},
     "output_type": "execute_result"
    }
   ],
   "execution_count": 38
  },
  {
   "cell_type": "code",
   "id": "0860af07",
   "metadata": {
    "ExecuteTime": {
     "end_time": "2025-05-10T17:19:45.105753Z",
     "start_time": "2025-05-10T17:19:45.097804Z"
    }
   },
   "source": [
    "# zu (a):\n",
    "sumsquared_e = np.sum((log_predict-y_mean)**2)\n",
    "\n",
    "R_squared_log = sumsquared_e/sumsquared_t\n",
    "R_squared_log.round(4)"
   ],
   "outputs": [
    {
     "data": {
      "text/plain": [
       "np.float64(0.9787)"
      ]
     },
     "execution_count": 39,
     "metadata": {},
     "output_type": "execute_result"
    }
   ],
   "execution_count": 39
  },
  {
   "cell_type": "code",
   "id": "80d1ff41",
   "metadata": {
    "ExecuteTime": {
     "end_time": "2025-05-10T17:19:45.160624Z",
     "start_time": "2025-05-10T17:19:45.149783Z"
    }
   },
   "source": [
    "# zu (b):\n",
    "sumsquared_ne = np.sum((data['Maisproduktion']-log_predict)**2)\n",
    "\n",
    "R_squared_log2 = 1-(sumsquared_ne/sumsquared_t)\n",
    "R_squared_log2.round(4)"
   ],
   "outputs": [
    {
     "data": {
      "text/plain": [
       "np.float64(0.9787)"
      ]
     },
     "execution_count": 40,
     "metadata": {},
     "output_type": "execute_result"
    }
   ],
   "execution_count": 40
  },
  {
   "cell_type": "markdown",
   "id": "84bb3c16",
   "metadata": {},
   "source": [
    "**Zusatz: Bestimmung mithilfe eingebauter Funktion**\n",
    "\n",
    "Über die sklearn-Bibliothek kann eine Funktion zur direkten Bestimmung des Bestimmheitsmaßes geladen und verwendet werden. <br>\n",
    "Dafür werden wieder nur die beobachteten/tatsächlichen **y-Werte und die geschätzten Werte** benötigt und nicht wie über die LinearRegression-Bibiliothek ein **Modell**."
   ]
  },
  {
   "cell_type": "code",
   "id": "9f53462a",
   "metadata": {
    "ExecuteTime": {
     "end_time": "2025-05-10T17:19:45.410734Z",
     "start_time": "2025-05-10T17:19:45.272646Z"
    }
   },
   "source": [
    "from sklearn.metrics import r2_score\n",
    "\n",
    "r2_score(data['Maisproduktion'], log_predict).round(4) # r2_score(y, y_predict)"
   ],
   "outputs": [
    {
     "ename": "AttributeError",
     "evalue": "'float' object has no attribute 'round'",
     "output_type": "error",
     "traceback": [
      "\u001B[31m---------------------------------------------------------------------------\u001B[39m",
      "\u001B[31mAttributeError\u001B[39m                            Traceback (most recent call last)",
      "\u001B[36mCell\u001B[39m\u001B[36m \u001B[39m\u001B[32mIn[41]\u001B[39m\u001B[32m, line 3\u001B[39m\n\u001B[32m      1\u001B[39m \u001B[38;5;28;01mfrom\u001B[39;00m\u001B[38;5;250m \u001B[39m\u001B[34;01msklearn\u001B[39;00m\u001B[34;01m.\u001B[39;00m\u001B[34;01mmetrics\u001B[39;00m\u001B[38;5;250m \u001B[39m\u001B[38;5;28;01mimport\u001B[39;00m r2_score\n\u001B[32m----> \u001B[39m\u001B[32m3\u001B[39m \u001B[43mr2_score\u001B[49m\u001B[43m(\u001B[49m\u001B[43mdata\u001B[49m\u001B[43m[\u001B[49m\u001B[33;43m'\u001B[39;49m\u001B[33;43mMaisproduktion\u001B[39;49m\u001B[33;43m'\u001B[39;49m\u001B[43m]\u001B[49m\u001B[43m,\u001B[49m\u001B[43m \u001B[49m\u001B[43mlog_predict\u001B[49m\u001B[43m)\u001B[49m\u001B[43m.\u001B[49m\u001B[43mround\u001B[49m(\u001B[32m4\u001B[39m) \u001B[38;5;66;03m# r2_score(y, y_predict)\u001B[39;00m\n",
      "\u001B[31mAttributeError\u001B[39m: 'float' object has no attribute 'round'"
     ]
    }
   ],
   "execution_count": 41
  }
 ],
 "metadata": {
  "kernelspec": {
   "display_name": "Python 3 (ipykernel)",
   "language": "python",
   "name": "python3"
  },
  "language_info": {
   "codemirror_mode": {
    "name": "ipython",
    "version": 3
   },
   "file_extension": ".py",
   "mimetype": "text/x-python",
   "name": "python",
   "nbconvert_exporter": "python",
   "pygments_lexer": "ipython3",
   "version": "3.10.9"
  }
 },
 "nbformat": 4,
 "nbformat_minor": 5
}
