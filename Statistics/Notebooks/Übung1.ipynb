{
 "cells": [
  {
   "cell_type": "markdown",
   "id": "40d4ce6a",
   "metadata": {},
   "source": [
    "# Einführung Statistiklabor\n",
    "\n",
    "# Beispielaufgabe 1 - Schulnoten\n",
    "\n",
    "Lesen Sie die txt-Datei mit den Schulnoten ein und lassen Sie sich diese als Pandas-Dataframework ausgeben.\n",
    "Anschließend sollen die **Häufigkeiten der erreichten Noten mithilfe eines Säulendiagramms** dargestellt sowie der *Mittelwert*, die *Standardabweichung*, die *Varianz* und der *Median* sowie die *Spannweite* ausgegeben werden. \n",
    "\n",
    "Die Formel für den Mittelwert zum Beispiel lautet:\n",
    "$$\\bar x = \\frac{1}{n}\\sum_{i=1}^{n} x_i$$"
   ]
  },
  {
   "cell_type": "markdown",
   "id": "12912567",
   "metadata": {},
   "source": [
    "## 1. Einlesen der Datei"
   ]
  },
  {
   "cell_type": "code",
   "id": "d443150a",
   "metadata": {
    "ExecuteTime": {
     "end_time": "2025-04-09T16:11:20.489280Z",
     "start_time": "2025-04-09T16:11:20.482220Z"
    }
   },
   "source": [
    "import pandas as pd\n",
    "data = pd.read_csv('~/Python/Statistics/datasets/einf_b1.txt', sep=\" \", header=None, names=['Nr', 'Punkte', 'Note'], decimal=',')\n",
    "data.head(15)#.dtypes"
   ],
   "outputs": [
    {
     "data": {
      "text/plain": [
       "    Nr  Punkte  Note\n",
       "0   01     110   1.0\n",
       "1   02      90   1.7\n",
       "2   03     108   1.0\n",
       "3   04      95   1.3\n",
       "4   05      80   2.3\n",
       "5   06      74   2.7\n",
       "6   07      52   3.7\n",
       "7   08      78   2.3\n",
       "8   09      39   4.7\n",
       "9   10     102   1.0\n",
       "10  qw     500   8.4\n",
       "11  11      79   2.3\n",
       "12  12      88   1.7\n",
       "13  13      58   3.3\n",
       "14  14      86   2.0"
      ],
      "text/html": [
       "<div>\n",
       "<style scoped>\n",
       "    .dataframe tbody tr th:only-of-type {\n",
       "        vertical-align: middle;\n",
       "    }\n",
       "\n",
       "    .dataframe tbody tr th {\n",
       "        vertical-align: top;\n",
       "    }\n",
       "\n",
       "    .dataframe thead th {\n",
       "        text-align: right;\n",
       "    }\n",
       "</style>\n",
       "<table border=\"1\" class=\"dataframe\">\n",
       "  <thead>\n",
       "    <tr style=\"text-align: right;\">\n",
       "      <th></th>\n",
       "      <th>Nr</th>\n",
       "      <th>Punkte</th>\n",
       "      <th>Note</th>\n",
       "    </tr>\n",
       "  </thead>\n",
       "  <tbody>\n",
       "    <tr>\n",
       "      <th>0</th>\n",
       "      <td>01</td>\n",
       "      <td>110</td>\n",
       "      <td>1.0</td>\n",
       "    </tr>\n",
       "    <tr>\n",
       "      <th>1</th>\n",
       "      <td>02</td>\n",
       "      <td>90</td>\n",
       "      <td>1.7</td>\n",
       "    </tr>\n",
       "    <tr>\n",
       "      <th>2</th>\n",
       "      <td>03</td>\n",
       "      <td>108</td>\n",
       "      <td>1.0</td>\n",
       "    </tr>\n",
       "    <tr>\n",
       "      <th>3</th>\n",
       "      <td>04</td>\n",
       "      <td>95</td>\n",
       "      <td>1.3</td>\n",
       "    </tr>\n",
       "    <tr>\n",
       "      <th>4</th>\n",
       "      <td>05</td>\n",
       "      <td>80</td>\n",
       "      <td>2.3</td>\n",
       "    </tr>\n",
       "    <tr>\n",
       "      <th>5</th>\n",
       "      <td>06</td>\n",
       "      <td>74</td>\n",
       "      <td>2.7</td>\n",
       "    </tr>\n",
       "    <tr>\n",
       "      <th>6</th>\n",
       "      <td>07</td>\n",
       "      <td>52</td>\n",
       "      <td>3.7</td>\n",
       "    </tr>\n",
       "    <tr>\n",
       "      <th>7</th>\n",
       "      <td>08</td>\n",
       "      <td>78</td>\n",
       "      <td>2.3</td>\n",
       "    </tr>\n",
       "    <tr>\n",
       "      <th>8</th>\n",
       "      <td>09</td>\n",
       "      <td>39</td>\n",
       "      <td>4.7</td>\n",
       "    </tr>\n",
       "    <tr>\n",
       "      <th>9</th>\n",
       "      <td>10</td>\n",
       "      <td>102</td>\n",
       "      <td>1.0</td>\n",
       "    </tr>\n",
       "    <tr>\n",
       "      <th>10</th>\n",
       "      <td>qw</td>\n",
       "      <td>500</td>\n",
       "      <td>8.4</td>\n",
       "    </tr>\n",
       "    <tr>\n",
       "      <th>11</th>\n",
       "      <td>11</td>\n",
       "      <td>79</td>\n",
       "      <td>2.3</td>\n",
       "    </tr>\n",
       "    <tr>\n",
       "      <th>12</th>\n",
       "      <td>12</td>\n",
       "      <td>88</td>\n",
       "      <td>1.7</td>\n",
       "    </tr>\n",
       "    <tr>\n",
       "      <th>13</th>\n",
       "      <td>13</td>\n",
       "      <td>58</td>\n",
       "      <td>3.3</td>\n",
       "    </tr>\n",
       "    <tr>\n",
       "      <th>14</th>\n",
       "      <td>14</td>\n",
       "      <td>86</td>\n",
       "      <td>2.0</td>\n",
       "    </tr>\n",
       "  </tbody>\n",
       "</table>\n",
       "</div>"
      ]
     },
     "execution_count": 19,
     "metadata": {},
     "output_type": "execute_result"
    }
   ],
   "execution_count": 19
  },
  {
   "cell_type": "markdown",
   "id": "5c12f038",
   "metadata": {},
   "source": [
    "## 2. Daten bereinigen\n",
    "In der 11. Zeile (index = 10) scheinen ungültige Daten vorzuliegen. Diese sollen aus dem Datensatz (mit *dataframe.drop()*) gelöscht werden."
   ]
  },
  {
   "cell_type": "code",
   "id": "a840cfc2",
   "metadata": {
    "ExecuteTime": {
     "end_time": "2025-04-09T16:11:20.534072Z",
     "start_time": "2025-04-09T16:11:20.526700Z"
    }
   },
   "source": [
    "data = data.drop([10], axis = 0)\n",
    "data = data.reset_index()\n",
    "data = data.drop('index', axis = 1)\n",
    "data"
   ],
   "outputs": [
    {
     "data": {
      "text/plain": [
       "    Nr  Punkte  Note\n",
       "0   01     110   1.0\n",
       "1   02      90   1.7\n",
       "2   03     108   1.0\n",
       "3   04      95   1.3\n",
       "4   05      80   2.3\n",
       "5   06      74   2.7\n",
       "6   07      52   3.7\n",
       "7   08      78   2.3\n",
       "8   09      39   4.7\n",
       "9   10     102   1.0\n",
       "10  11      79   2.3\n",
       "11  12      88   1.7\n",
       "12  13      58   3.3\n",
       "13  14      86   2.0\n",
       "14  15      49   4.0\n",
       "15  16      87   2.0\n",
       "16  17      95   1.3\n",
       "17  18      94   1.7\n",
       "18  19      61   3.3\n",
       "19  20      99   1.3\n",
       "20  21      85   2.0\n",
       "21  22      82   2.0\n",
       "22  23      77   2.3\n",
       "23  24      95   1.3\n",
       "24  25      91   1.7\n",
       "25  26      83   2.0\n",
       "26  27     101   1.0\n",
       "27  28      75   2.7\n",
       "28  29      77   2.3\n",
       "29  30      66   3.0\n",
       "30  31      85   2.0\n",
       "31  32      89   1.7\n",
       "32  33      64   3.0\n",
       "33  34      82   2.0\n",
       "34  35      72   2.7\n",
       "35  36      76   2.7\n",
       "36  37      95   1.3\n",
       "37  38      87   2.0\n",
       "38  39      84   2.0\n",
       "39  40     110   1.0\n",
       "40  41      80   2.3\n",
       "41  42      74   2.7"
      ],
      "text/html": [
       "<div>\n",
       "<style scoped>\n",
       "    .dataframe tbody tr th:only-of-type {\n",
       "        vertical-align: middle;\n",
       "    }\n",
       "\n",
       "    .dataframe tbody tr th {\n",
       "        vertical-align: top;\n",
       "    }\n",
       "\n",
       "    .dataframe thead th {\n",
       "        text-align: right;\n",
       "    }\n",
       "</style>\n",
       "<table border=\"1\" class=\"dataframe\">\n",
       "  <thead>\n",
       "    <tr style=\"text-align: right;\">\n",
       "      <th></th>\n",
       "      <th>Nr</th>\n",
       "      <th>Punkte</th>\n",
       "      <th>Note</th>\n",
       "    </tr>\n",
       "  </thead>\n",
       "  <tbody>\n",
       "    <tr>\n",
       "      <th>0</th>\n",
       "      <td>01</td>\n",
       "      <td>110</td>\n",
       "      <td>1.0</td>\n",
       "    </tr>\n",
       "    <tr>\n",
       "      <th>1</th>\n",
       "      <td>02</td>\n",
       "      <td>90</td>\n",
       "      <td>1.7</td>\n",
       "    </tr>\n",
       "    <tr>\n",
       "      <th>2</th>\n",
       "      <td>03</td>\n",
       "      <td>108</td>\n",
       "      <td>1.0</td>\n",
       "    </tr>\n",
       "    <tr>\n",
       "      <th>3</th>\n",
       "      <td>04</td>\n",
       "      <td>95</td>\n",
       "      <td>1.3</td>\n",
       "    </tr>\n",
       "    <tr>\n",
       "      <th>4</th>\n",
       "      <td>05</td>\n",
       "      <td>80</td>\n",
       "      <td>2.3</td>\n",
       "    </tr>\n",
       "    <tr>\n",
       "      <th>5</th>\n",
       "      <td>06</td>\n",
       "      <td>74</td>\n",
       "      <td>2.7</td>\n",
       "    </tr>\n",
       "    <tr>\n",
       "      <th>6</th>\n",
       "      <td>07</td>\n",
       "      <td>52</td>\n",
       "      <td>3.7</td>\n",
       "    </tr>\n",
       "    <tr>\n",
       "      <th>7</th>\n",
       "      <td>08</td>\n",
       "      <td>78</td>\n",
       "      <td>2.3</td>\n",
       "    </tr>\n",
       "    <tr>\n",
       "      <th>8</th>\n",
       "      <td>09</td>\n",
       "      <td>39</td>\n",
       "      <td>4.7</td>\n",
       "    </tr>\n",
       "    <tr>\n",
       "      <th>9</th>\n",
       "      <td>10</td>\n",
       "      <td>102</td>\n",
       "      <td>1.0</td>\n",
       "    </tr>\n",
       "    <tr>\n",
       "      <th>10</th>\n",
       "      <td>11</td>\n",
       "      <td>79</td>\n",
       "      <td>2.3</td>\n",
       "    </tr>\n",
       "    <tr>\n",
       "      <th>11</th>\n",
       "      <td>12</td>\n",
       "      <td>88</td>\n",
       "      <td>1.7</td>\n",
       "    </tr>\n",
       "    <tr>\n",
       "      <th>12</th>\n",
       "      <td>13</td>\n",
       "      <td>58</td>\n",
       "      <td>3.3</td>\n",
       "    </tr>\n",
       "    <tr>\n",
       "      <th>13</th>\n",
       "      <td>14</td>\n",
       "      <td>86</td>\n",
       "      <td>2.0</td>\n",
       "    </tr>\n",
       "    <tr>\n",
       "      <th>14</th>\n",
       "      <td>15</td>\n",
       "      <td>49</td>\n",
       "      <td>4.0</td>\n",
       "    </tr>\n",
       "    <tr>\n",
       "      <th>15</th>\n",
       "      <td>16</td>\n",
       "      <td>87</td>\n",
       "      <td>2.0</td>\n",
       "    </tr>\n",
       "    <tr>\n",
       "      <th>16</th>\n",
       "      <td>17</td>\n",
       "      <td>95</td>\n",
       "      <td>1.3</td>\n",
       "    </tr>\n",
       "    <tr>\n",
       "      <th>17</th>\n",
       "      <td>18</td>\n",
       "      <td>94</td>\n",
       "      <td>1.7</td>\n",
       "    </tr>\n",
       "    <tr>\n",
       "      <th>18</th>\n",
       "      <td>19</td>\n",
       "      <td>61</td>\n",
       "      <td>3.3</td>\n",
       "    </tr>\n",
       "    <tr>\n",
       "      <th>19</th>\n",
       "      <td>20</td>\n",
       "      <td>99</td>\n",
       "      <td>1.3</td>\n",
       "    </tr>\n",
       "    <tr>\n",
       "      <th>20</th>\n",
       "      <td>21</td>\n",
       "      <td>85</td>\n",
       "      <td>2.0</td>\n",
       "    </tr>\n",
       "    <tr>\n",
       "      <th>21</th>\n",
       "      <td>22</td>\n",
       "      <td>82</td>\n",
       "      <td>2.0</td>\n",
       "    </tr>\n",
       "    <tr>\n",
       "      <th>22</th>\n",
       "      <td>23</td>\n",
       "      <td>77</td>\n",
       "      <td>2.3</td>\n",
       "    </tr>\n",
       "    <tr>\n",
       "      <th>23</th>\n",
       "      <td>24</td>\n",
       "      <td>95</td>\n",
       "      <td>1.3</td>\n",
       "    </tr>\n",
       "    <tr>\n",
       "      <th>24</th>\n",
       "      <td>25</td>\n",
       "      <td>91</td>\n",
       "      <td>1.7</td>\n",
       "    </tr>\n",
       "    <tr>\n",
       "      <th>25</th>\n",
       "      <td>26</td>\n",
       "      <td>83</td>\n",
       "      <td>2.0</td>\n",
       "    </tr>\n",
       "    <tr>\n",
       "      <th>26</th>\n",
       "      <td>27</td>\n",
       "      <td>101</td>\n",
       "      <td>1.0</td>\n",
       "    </tr>\n",
       "    <tr>\n",
       "      <th>27</th>\n",
       "      <td>28</td>\n",
       "      <td>75</td>\n",
       "      <td>2.7</td>\n",
       "    </tr>\n",
       "    <tr>\n",
       "      <th>28</th>\n",
       "      <td>29</td>\n",
       "      <td>77</td>\n",
       "      <td>2.3</td>\n",
       "    </tr>\n",
       "    <tr>\n",
       "      <th>29</th>\n",
       "      <td>30</td>\n",
       "      <td>66</td>\n",
       "      <td>3.0</td>\n",
       "    </tr>\n",
       "    <tr>\n",
       "      <th>30</th>\n",
       "      <td>31</td>\n",
       "      <td>85</td>\n",
       "      <td>2.0</td>\n",
       "    </tr>\n",
       "    <tr>\n",
       "      <th>31</th>\n",
       "      <td>32</td>\n",
       "      <td>89</td>\n",
       "      <td>1.7</td>\n",
       "    </tr>\n",
       "    <tr>\n",
       "      <th>32</th>\n",
       "      <td>33</td>\n",
       "      <td>64</td>\n",
       "      <td>3.0</td>\n",
       "    </tr>\n",
       "    <tr>\n",
       "      <th>33</th>\n",
       "      <td>34</td>\n",
       "      <td>82</td>\n",
       "      <td>2.0</td>\n",
       "    </tr>\n",
       "    <tr>\n",
       "      <th>34</th>\n",
       "      <td>35</td>\n",
       "      <td>72</td>\n",
       "      <td>2.7</td>\n",
       "    </tr>\n",
       "    <tr>\n",
       "      <th>35</th>\n",
       "      <td>36</td>\n",
       "      <td>76</td>\n",
       "      <td>2.7</td>\n",
       "    </tr>\n",
       "    <tr>\n",
       "      <th>36</th>\n",
       "      <td>37</td>\n",
       "      <td>95</td>\n",
       "      <td>1.3</td>\n",
       "    </tr>\n",
       "    <tr>\n",
       "      <th>37</th>\n",
       "      <td>38</td>\n",
       "      <td>87</td>\n",
       "      <td>2.0</td>\n",
       "    </tr>\n",
       "    <tr>\n",
       "      <th>38</th>\n",
       "      <td>39</td>\n",
       "      <td>84</td>\n",
       "      <td>2.0</td>\n",
       "    </tr>\n",
       "    <tr>\n",
       "      <th>39</th>\n",
       "      <td>40</td>\n",
       "      <td>110</td>\n",
       "      <td>1.0</td>\n",
       "    </tr>\n",
       "    <tr>\n",
       "      <th>40</th>\n",
       "      <td>41</td>\n",
       "      <td>80</td>\n",
       "      <td>2.3</td>\n",
       "    </tr>\n",
       "    <tr>\n",
       "      <th>41</th>\n",
       "      <td>42</td>\n",
       "      <td>74</td>\n",
       "      <td>2.7</td>\n",
       "    </tr>\n",
       "  </tbody>\n",
       "</table>\n",
       "</div>"
      ]
     },
     "execution_count": 20,
     "metadata": {},
     "output_type": "execute_result"
    }
   ],
   "execution_count": 20
  },
  {
   "cell_type": "markdown",
   "id": "0915b89f",
   "metadata": {},
   "source": [
    "## 3. Säulendiagramm der Häufigkeiten erstellen\n",
    "\n",
    "### 3.1 Schulnoten-\"klassen\" einführen\n",
    "Jede Dezimalnote kann einer eindeutigen Schulnotenklasse wie *sehr gut*, *gut*, ... und *ungenügend* zugeordnet werden. \n",
    "Die Trennung erfolgt immer bei $x,3$. Sodass z.B. 2,3 noch zur Gruppe gut gehört. **Aber:** Ab 4,0 ist die Zuordnung allgemein ungenügend."
   ]
  },
  {
   "cell_type": "code",
   "id": "09a3b71d",
   "metadata": {
    "ExecuteTime": {
     "end_time": "2025-04-09T16:11:20.618349Z",
     "start_time": "2025-04-09T16:11:20.598858Z"
    }
   },
   "source": [
    "notenGrenzen =[0, 1.3, 2.3, 3.3, 4.0, 6.0]\n",
    "notenKlassen = ['sehr gut', 'gut', 'befriedigend', 'ausreichend']\n",
    "\n",
    "neue_noten = pd.cut([])\n",
    "\n",
    "\n",
    "data.head()"
   ],
   "outputs": [
    {
     "ename": "TypeError",
     "evalue": "cut() missing 1 required positional argument: 'bins'",
     "output_type": "error",
     "traceback": [
      "\u001B[31m---------------------------------------------------------------------------\u001B[39m",
      "\u001B[31mTypeError\u001B[39m                                 Traceback (most recent call last)",
      "\u001B[36mCell\u001B[39m\u001B[36m \u001B[39m\u001B[32mIn[21]\u001B[39m\u001B[32m, line 4\u001B[39m\n\u001B[32m      1\u001B[39m notenGrenzen =[\u001B[32m0\u001B[39m, \u001B[32m1.3\u001B[39m, \u001B[32m2.3\u001B[39m, \u001B[32m3.3\u001B[39m, \u001B[32m4.0\u001B[39m, \u001B[32m6.0\u001B[39m]\n\u001B[32m      2\u001B[39m notenKlassen = [\u001B[33m'\u001B[39m\u001B[33msehr gut\u001B[39m\u001B[33m'\u001B[39m, \u001B[33m'\u001B[39m\u001B[33mgut\u001B[39m\u001B[33m'\u001B[39m, \u001B[33m'\u001B[39m\u001B[33mbefriedigend\u001B[39m\u001B[33m'\u001B[39m, \u001B[33m'\u001B[39m\u001B[33mausreichend\u001B[39m\u001B[33m'\u001B[39m]\n\u001B[32m----> \u001B[39m\u001B[32m4\u001B[39m neue_noten = \u001B[43mpd\u001B[49m\u001B[43m.\u001B[49m\u001B[43mcut\u001B[49m\u001B[43m(\u001B[49m\u001B[43m[\u001B[49m\u001B[43m]\u001B[49m\u001B[43m)\u001B[49m\n\u001B[32m      7\u001B[39m data.head()\n",
      "\u001B[31mTypeError\u001B[39m: cut() missing 1 required positional argument: 'bins'"
     ]
    }
   ],
   "execution_count": 21
  },
  {
   "cell_type": "markdown",
   "id": "3f811cc2",
   "metadata": {},
   "source": [
    "### 3.2 Häufigkeiten bestimmen\n",
    "Mithilfe der Pandas-Funktion value_counts() kann ganz leicht die absolute Häufigkeit der jeweiligen Note $H_n(Note)$ bestimmt werden.\n",
    "\n",
    "*z.B.: $H_n(gut) = 20$*"
   ]
  },
  {
   "cell_type": "code",
   "id": "4cf17ec1",
   "metadata": {
    "ExecuteTime": {
     "end_time": "2025-04-09T16:11:20.644358170Z",
     "start_time": "2025-04-09T15:55:07.871120Z"
    }
   },
   "source": [
    "data_hf = pd.value_count(data['Schulnoten'], sort=False).rename_axis('Schulnoten').reset_index(name = 'Häufigkeit')\n",
    "\n",
    "data_hf"
   ],
   "outputs": [],
   "execution_count": 8
  },
  {
   "cell_type": "markdown",
   "id": "739cfe02",
   "metadata": {},
   "source": [
    "#### Die relative Häufigkeit\n",
    "\n",
    "$h_n = \\frac{H_n(Note)}{n}$\n",
    "\n",
    "Die Grundgesamtheit $n$ bestimmen über:"
   ]
  },
  {
   "cell_type": "code",
   "id": "ac83c039",
   "metadata": {
    "ExecuteTime": {
     "end_time": "2025-04-09T16:11:20.662580763Z",
     "start_time": "2025-04-09T16:09:25.556338Z"
    }
   },
   "source": [
    "n = data_hf['Häufigkeit'].sum()\n",
    "\n",
    "print(n)"
   ],
   "outputs": [
    {
     "ename": "NameError",
     "evalue": "name 'data_hf' is not defined",
     "output_type": "error",
     "traceback": [
      "\u001B[31m---------------------------------------------------------------------------\u001B[39m",
      "\u001B[31mNameError\u001B[39m                                 Traceback (most recent call last)",
      "\u001B[36mCell\u001B[39m\u001B[36m \u001B[39m\u001B[32mIn[17]\u001B[39m\u001B[32m, line 1\u001B[39m\n\u001B[32m----> \u001B[39m\u001B[32m1\u001B[39m n = \u001B[43mdata_hf\u001B[49m[\u001B[33m'\u001B[39m\u001B[33mHäufigkeit\u001B[39m\u001B[33m'\u001B[39m].sum()\n\u001B[32m      3\u001B[39m \u001B[38;5;28mprint\u001B[39m(n)\n",
      "\u001B[31mNameError\u001B[39m: name 'data_hf' is not defined"
     ]
    }
   ],
   "execution_count": 17
  },
  {
   "cell_type": "markdown",
   "id": "c1098cc6",
   "metadata": {},
   "source": [
    "*optionaler Zusatz: Die Summen der Spalten in neuer Zeile mit ausgeben lassen:*"
   ]
  },
  {
   "cell_type": "code",
   "id": "80aab0b9",
   "metadata": {
    "ExecuteTime": {
     "end_time": "2025-04-09T16:11:20.684990848Z",
     "start_time": "2025-04-09T16:11:18.733663Z"
    }
   },
   "source": [
    "data_hf.loc['Summe']=data_hf['Häufigkeit'].sum()\n",
    "\n",
    "data_hf"
   ],
   "outputs": [
    {
     "ename": "NameError",
     "evalue": "name 'data_hf' is not defined",
     "output_type": "error",
     "traceback": [
      "\u001B[31m---------------------------------------------------------------------------\u001B[39m",
      "\u001B[31mNameError\u001B[39m                                 Traceback (most recent call last)",
      "\u001B[36mCell\u001B[39m\u001B[36m \u001B[39m\u001B[32mIn[18]\u001B[39m\u001B[32m, line 1\u001B[39m\n\u001B[32m----> \u001B[39m\u001B[32m1\u001B[39m data_hf.loc[\u001B[33m'\u001B[39m\u001B[33mSumme\u001B[39m\u001B[33m'\u001B[39m]=\u001B[43mdata_hf\u001B[49m[\u001B[33m'\u001B[39m\u001B[33mHäufigkeit\u001B[39m\u001B[33m'\u001B[39m].sum()\n\u001B[32m      3\u001B[39m data_hf\n",
      "\u001B[31mNameError\u001B[39m: name 'data_hf' is not defined"
     ]
    }
   ],
   "execution_count": 18
  },
  {
   "cell_type": "markdown",
   "id": "6a6180c1",
   "metadata": {},
   "source": [
    "Relative Häufigkeit in Prozent [%] bestimmen (vgl. obere Formel)"
   ]
  },
  {
   "cell_type": "code",
   "id": "d44f04a7",
   "metadata": {
    "ExecuteTime": {
     "end_time": "2025-04-09T16:11:20.686374919Z",
     "start_time": "2025-04-09T15:55:08.077069Z"
    }
   },
   "source": "data_hf[]",
   "outputs": [],
   "execution_count": 11
  },
  {
   "cell_type": "markdown",
   "id": "3ac08a1b",
   "metadata": {},
   "source": [
    "### 3.3 Säulendiagramm erstellen"
   ]
  },
  {
   "cell_type": "code",
   "id": "9dc26d00",
   "metadata": {
    "ExecuteTime": {
     "end_time": "2025-04-09T16:12:41.596057Z",
     "start_time": "2025-04-09T16:12:41.314668Z"
    }
   },
   "source": [
    "import matplotlib.pyplot as plt\n",
    "\n",
    "plt.bar(data_hf['Schulnoten'])"
   ],
   "outputs": [],
   "execution_count": 22
  },
  {
   "cell_type": "markdown",
   "id": "49a36bc0",
   "metadata": {},
   "source": [
    "#### Ergänzung: Beschriftung der Säulen hinzufügen\n",
    "(am Beispiel der relativen Häufigkeit)"
   ]
  },
  {
   "cell_type": "code",
   "id": "e634b8de",
   "metadata": {
    "ExecuteTime": {
     "end_time": "2025-04-09T16:11:20.687241378Z",
     "start_time": "2025-04-09T15:55:08.171767Z"
    }
   },
   "source": [
    "# Code"
   ],
   "outputs": [],
   "execution_count": 13
  },
  {
   "cell_type": "markdown",
   "id": "c4be2ee4",
   "metadata": {},
   "source": [
    "## 4. Statistische Angaben ausgeben\n",
    "Für Mittelwert, Standardabweichung, Varianz und Median können vorgefertigte Methoden aufgerufen werden."
   ]
  },
  {
   "cell_type": "code",
   "id": "06c8c01b",
   "metadata": {
    "ExecuteTime": {
     "end_time": "2025-04-09T16:11:20.687489128Z",
     "start_time": "2025-04-09T15:55:08.221058Z"
    }
   },
   "source": [
    "# Code"
   ],
   "outputs": [],
   "execution_count": 14
  },
  {
   "cell_type": "markdown",
   "id": "43d1037a",
   "metadata": {},
   "source": [
    "Die Spannweite wird bestimmt, indem der kleinste Wert vom größten abgezogen wird. Zur Bestimmung dieser beiden Werte können auch wieder vorgefertigte Methoden verwendet werden."
   ]
  },
  {
   "cell_type": "code",
   "id": "c8b6d6a0",
   "metadata": {
    "ExecuteTime": {
     "end_time": "2025-04-09T16:11:20.687706470Z",
     "start_time": "2025-04-09T15:55:08.271573Z"
    }
   },
   "source": [
    "# Code"
   ],
   "outputs": [],
   "execution_count": 15
  },
  {
   "cell_type": "code",
   "id": "3bd0a831",
   "metadata": {
    "ExecuteTime": {
     "end_time": "2025-04-09T16:11:20.687906724Z",
     "start_time": "2025-04-09T15:55:08.320171Z"
    }
   },
   "source": [],
   "outputs": [],
   "execution_count": null
  }
 ],
 "metadata": {
  "kernelspec": {
   "display_name": "Python 3 (ipykernel)",
   "language": "python",
   "name": "python3"
  },
  "language_info": {
   "codemirror_mode": {
    "name": "ipython",
    "version": 3
   },
   "file_extension": ".py",
   "mimetype": "text/x-python",
   "name": "python",
   "nbconvert_exporter": "python",
   "pygments_lexer": "ipython3",
   "version": "3.9.12"
  }
 },
 "nbformat": 4,
 "nbformat_minor": 5
}
