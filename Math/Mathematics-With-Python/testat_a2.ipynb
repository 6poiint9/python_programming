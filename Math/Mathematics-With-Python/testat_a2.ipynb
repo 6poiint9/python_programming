{
 "cells": [
  {
   "metadata": {
    "ExecuteTime": {
     "end_time": "2025-04-10T06:52:55.652552Z",
     "start_time": "2025-04-10T06:52:55.645436Z"
    }
   },
   "cell_type": "code",
   "source": [
    "import numpy as np\n",
    "\n",
    "# Zahlen bei der Ausgabe mit einer Nachkommastelle anzeigen\n",
    "np.set_printoptions(formatter={'float_kind': lambda x: f\"{x:.1f}\"})\n",
    "\n",
    "# Erste Zeile mit numpy.array()\n",
    "row1 = np.array([-16.0, -12.0, -8.0, -4.0, 0.0, 4.0, 8.0, 12.0, 16.0])\n",
    "\n",
    "# Zweite Zeile mit numpy.linspace()\n",
    "row2 = np.linspace(-1.2, 1.2, 9)\n",
    "\n",
    "# Dritte Zeile mit numpy.arange()\n",
    "row3 = np.arange(8.0, -8.1, -2.0)\n",
    "\n",
    "# Matrix A zusammensetzen\n",
    "A = np.array([row1, row2, row3])\n",
    "\n",
    "# Matrix B extrahieren (2. und 3. Zeile, 2., 5. und 8. Spalte)\n",
    "B = A[1:3, [1, 4, 7]]\n",
    "\n",
    "print(\"Matrix A:\\n\", A)\n",
    "print(\"\\nMatrix B:\\n\", B)\n"
   ],
   "id": "ec67f656a2afaa8e",
   "outputs": [
    {
     "name": "stdout",
     "output_type": "stream",
     "text": [
      "Matrix A:\n",
      " [[-16.0 -12.0 -8.0 -4.0 0.0 4.0 8.0 12.0 16.0]\n",
      " [-1.2 -0.9 -0.6 -0.3 0.0 0.3 0.6 0.9 1.2]\n",
      " [8.0 6.0 4.0 2.0 0.0 -2.0 -4.0 -6.0 -8.0]]\n",
      "\n",
      "Matrix B:\n",
      " [[-0.9 0.0 0.9]\n",
      " [6.0 0.0 -6.0]]\n"
     ]
    }
   ],
   "execution_count": 4
  }
 ],
 "metadata": {
  "kernelspec": {
   "display_name": "Python 3",
   "language": "python",
   "name": "python3"
  },
  "language_info": {
   "codemirror_mode": {
    "name": "ipython",
    "version": 2
   },
   "file_extension": ".py",
   "mimetype": "text/x-python",
   "name": "python",
   "nbconvert_exporter": "python",
   "pygments_lexer": "ipython2",
   "version": "2.7.6"
  }
 },
 "nbformat": 4,
 "nbformat_minor": 5
}
