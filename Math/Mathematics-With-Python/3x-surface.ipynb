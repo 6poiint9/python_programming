{
 "cells": [
  {
   "cell_type": "markdown",
   "id": "7b029723",
   "metadata": {},
   "source": [
    "<img src=\"images/00-mathematics_with_python.png\" style=\"height:250px\" align=\"left\">"
   ]
  },
  {
   "cell_type": "markdown",
   "id": "8761b019",
   "metadata": {},
   "source": [
    "<!--NAVIGATION-->\n",
    "< [3.x](3x.ipynb) | [3.x](3x.ipynb) >"
   ]
  },
  {
   "cell_type": "markdown",
   "id": "93ad8bc6",
   "metadata": {},
   "source": [
    "# 3.x Surfaces"
   ]
  },
  {
   "cell_type": "code",
   "execution_count": 10,
   "id": "1dc485f3",
   "metadata": {},
   "outputs": [],
   "source": [
    "import numpy as np\n",
    "import matplotlib.pyplot as plt\n",
    "from mpl_toolkits.mplot3d import Axes3D"
   ]
  },
  {
   "cell_type": "code",
   "execution_count": 11,
   "id": "89fa4a32",
   "metadata": {},
   "outputs": [
    {
     "name": "stdout",
     "output_type": "stream",
     "text": [
      "X =  [[-10.         -9.7979798  -9.5959596 ...   9.5959596   9.7979798\n",
      "   10.       ]\n",
      " [-10.         -9.7979798  -9.5959596 ...   9.5959596   9.7979798\n",
      "   10.       ]\n",
      " [-10.         -9.7979798  -9.5959596 ...   9.5959596   9.7979798\n",
      "   10.       ]\n",
      " ...\n",
      " [-10.         -9.7979798  -9.5959596 ...   9.5959596   9.7979798\n",
      "   10.       ]\n",
      " [-10.         -9.7979798  -9.5959596 ...   9.5959596   9.7979798\n",
      "   10.       ]\n",
      " [-10.         -9.7979798  -9.5959596 ...   9.5959596   9.7979798\n",
      "   10.       ]]\n",
      "Y =  [[-10.        -10.        -10.        ... -10.        -10.\n",
      "  -10.       ]\n",
      " [ -9.7979798  -9.7979798  -9.7979798 ...  -9.7979798  -9.7979798\n",
      "   -9.7979798]\n",
      " [ -9.5959596  -9.5959596  -9.5959596 ...  -9.5959596  -9.5959596\n",
      "   -9.5959596]\n",
      " ...\n",
      " [  9.5959596   9.5959596   9.5959596 ...   9.5959596   9.5959596\n",
      "    9.5959596]\n",
      " [  9.7979798   9.7979798   9.7979798 ...   9.7979798   9.7979798\n",
      "    9.7979798]\n",
      " [ 10.         10.         10.        ...  10.         10.\n",
      "   10.       ]]\n"
     ]
    }
   ],
   "source": [
    "x = np.linspace(-10.0,10.0,100)\n",
    "y = np.linspace(-10.0,10.0,100)\n",
    "X, Y = np.meshgrid(x,y)\n",
    "print('X = ',X)\n",
    "print('Y = ',Y)"
   ]
  },
  {
   "cell_type": "code",
   "execution_count": null,
   "id": "76b157ed-616e-4f7a-93b2-49c818ecd7da",
   "metadata": {},
   "outputs": [],
   "source": []
  },
  {
   "cell_type": "code",
   "execution_count": null,
   "id": "529e8649-ccd3-40d1-8b64-eea011eed74c",
   "metadata": {},
   "outputs": [],
   "source": []
  },
  {
   "cell_type": "code",
   "execution_count": null,
   "id": "30f72dbc-d21b-4afe-a32e-40bdc3470411",
   "metadata": {},
   "outputs": [],
   "source": []
  }
 ],
 "metadata": {
  "kernelspec": {
   "display_name": "Python 3 (ipykernel)",
   "language": "python",
   "name": "python3"
  },
  "language_info": {
   "codemirror_mode": {
    "name": "ipython",
    "version": 3
   },
   "file_extension": ".py",
   "mimetype": "text/x-python",
   "name": "python",
   "nbconvert_exporter": "python",
   "pygments_lexer": "ipython3",
   "version": "3.12.9"
  }
 },
 "nbformat": 4,
 "nbformat_minor": 5
}
