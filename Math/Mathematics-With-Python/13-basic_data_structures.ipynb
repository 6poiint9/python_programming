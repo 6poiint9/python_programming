{
 "cells": [
  {
   "cell_type": "markdown",
   "metadata": {},
   "source": [
    "<img src=\"images/00-mathematics_with_python.png\" style=\"height:250px\" align=\"left\"> "
   ]
  },
  {
   "cell_type": "markdown",
   "metadata": {},
   "source": [
    "<!--NAVIGATION-->\n",
    "| [2 Basic Data Types](12-basic_data_types.ipynb) | [4 Functions](14-functions.ipynb) >"
   ]
  },
  {
   "cell_type": "markdown",
   "metadata": {},
   "source": [
    "# 3 Basic Data Structures\n",
    "The basic data structures in Python include `tuples`, `list`, `set` and `dict`.\n",
    "Each of the data structures is unique in its own way.\n",
    "Data structures are containers that organize and group data.\n",
    "## 3.1 Tuple\n",
    "A tuple is a ordered collection of objects.\n",
    "Because the number of elements in a tuple usually does not change a tuple is said to be an immutable data structure.\n",
    "### 3.1.1 Creating\n",
    "Creating a tuple is as simple as putting different comma-separated values."
   ]
  },
  {
   "cell_type": "code",
   "metadata": {
    "ExecuteTime": {
     "end_time": "2025-04-03T06:46:58.358592Z",
     "start_time": "2025-04-03T06:46:58.354874Z"
    }
   },
   "source": [
    "t = 5,6,5.0,'Otto',7,5\n",
    "print(t)"
   ],
   "outputs": [
    {
     "name": "stdout",
     "output_type": "stream",
     "text": [
      "(5, 6, 5.0, 'Otto', 7, 5)\n"
     ]
    }
   ],
   "execution_count": 25
  },
  {
   "cell_type": "code",
   "metadata": {
    "ExecuteTime": {
     "end_time": "2025-04-03T06:46:58.409960Z",
     "start_time": "2025-04-03T06:46:58.405506Z"
    }
   },
   "source": [
    "type(t)"
   ],
   "outputs": [
    {
     "data": {
      "text/plain": [
       "tuple"
      ]
     },
     "execution_count": 26,
     "metadata": {},
     "output_type": "execute_result"
    }
   ],
   "execution_count": 26
  },
  {
   "cell_type": "markdown",
   "metadata": {},
   "source": [
    "Optionally you can put these comma-separated values between parentheses. "
   ]
  },
  {
   "cell_type": "code",
   "metadata": {
    "ExecuteTime": {
     "end_time": "2025-04-03T06:46:58.472255Z",
     "start_time": "2025-04-03T06:46:58.466811Z"
    }
   },
   "source": [
    "t = (5,6,5.0,'Otto',7,5)\n",
    "print(t)"
   ],
   "outputs": [
    {
     "name": "stdout",
     "output_type": "stream",
     "text": [
      "(5, 6, 5.0, 'Otto', 7, 5)\n"
     ]
    }
   ],
   "execution_count": 27
  },
  {
   "cell_type": "markdown",
   "metadata": {},
   "source": [
    "### 3.1.2 Length\n",
    "The length of a tuple corresponds to the number of Elements. "
   ]
  },
  {
   "cell_type": "code",
   "metadata": {
    "ExecuteTime": {
     "end_time": "2025-04-03T06:46:58.529532Z",
     "start_time": "2025-04-03T06:46:58.523717Z"
    }
   },
   "source": [
    "len(t)"
   ],
   "outputs": [
    {
     "data": {
      "text/plain": [
       "6"
      ]
     },
     "execution_count": 28,
     "metadata": {},
     "output_type": "execute_result"
    }
   ],
   "execution_count": 28
  },
  {
   "cell_type": "markdown",
   "metadata": {},
   "source": [
    "### 3.1.3 Indexing\n",
    "Each element of a tuple is assigned a number.\n",
    "The first index is zero, the second index is one, and so forth."
   ]
  },
  {
   "cell_type": "code",
   "metadata": {
    "ExecuteTime": {
     "end_time": "2025-04-03T06:46:58.586023Z",
     "start_time": "2025-04-03T06:46:58.581358Z"
    }
   },
   "source": [
    "t[0]"
   ],
   "outputs": [
    {
     "data": {
      "text/plain": [
       "5"
      ]
     },
     "execution_count": 29,
     "metadata": {},
     "output_type": "execute_result"
    }
   ],
   "execution_count": 29
  },
  {
   "cell_type": "markdown",
   "metadata": {},
   "source": [
    "Counting from the end backward with negative indices works too."
   ]
  },
  {
   "cell_type": "code",
   "metadata": {
    "ExecuteTime": {
     "end_time": "2025-04-03T06:46:58.644970Z",
     "start_time": "2025-04-03T06:46:58.635459Z"
    }
   },
   "source": [
    "t[-2]"
   ],
   "outputs": [
    {
     "data": {
      "text/plain": [
       "7"
      ]
     },
     "execution_count": 30,
     "metadata": {},
     "output_type": "execute_result"
    }
   ],
   "execution_count": 30
  },
  {
   "cell_type": "markdown",
   "metadata": {},
   "source": [
    "### 3.1.4 Slicing\n",
    "Slicing is the extraction of a part of a tuple.\n",
    "It enables users to access the specific range of elements by mentioning their indices.\n",
    "\n",
    "`[start:end]`\n",
    "\n",
    "Slicing works in the same way with strings and lists. "
   ]
  },
  {
   "cell_type": "code",
   "metadata": {
    "ExecuteTime": {
     "end_time": "2025-04-03T06:46:58.730248Z",
     "start_time": "2025-04-03T06:46:58.724550Z"
    }
   },
   "source": [
    "t[1:4]"
   ],
   "outputs": [
    {
     "data": {
      "text/plain": [
       "(6, 5.0, 'Otto')"
      ]
     },
     "execution_count": 31,
     "metadata": {},
     "output_type": "execute_result"
    }
   ],
   "execution_count": 31
  },
  {
   "cell_type": "markdown",
   "metadata": {},
   "source": [
    "Note: t[4] is not included!"
   ]
  },
  {
   "cell_type": "markdown",
   "metadata": {},
   "source": [
    "### 3.1.5 Comparison\n",
    "Finding the amount of equal elements. "
   ]
  },
  {
   "cell_type": "code",
   "metadata": {
    "ExecuteTime": {
     "end_time": "2025-04-03T06:46:58.788773Z",
     "start_time": "2025-04-03T06:46:58.779602Z"
    }
   },
   "source": [
    "t.count(5)"
   ],
   "outputs": [
    {
     "data": {
      "text/plain": [
       "3"
      ]
     },
     "execution_count": 32,
     "metadata": {},
     "output_type": "execute_result"
    }
   ],
   "execution_count": 32
  },
  {
   "cell_type": "markdown",
   "metadata": {},
   "source": [
    "Note: It doesn't matter that the elements have differnent basic data types."
   ]
  },
  {
   "cell_type": "markdown",
   "metadata": {},
   "source": [
    "## 3.2 List\n",
    "Compared to a tuple, a list has the advantage that elements of a list can be easily removed or added to.\n",
    "### 3.2.1 Creating\n",
    "A list is created from comma-separated values between square brackets."
   ]
  },
  {
   "cell_type": "code",
   "metadata": {
    "ExecuteTime": {
     "end_time": "2025-04-03T06:46:58.840216Z",
     "start_time": "2025-04-03T06:46:58.836451Z"
    }
   },
   "source": [
    "l = [5,6,5,7,5]\n",
    "print(l)"
   ],
   "outputs": [
    {
     "name": "stdout",
     "output_type": "stream",
     "text": [
      "[5, 6, 5, 7, 5]\n"
     ]
    }
   ],
   "execution_count": 33
  },
  {
   "cell_type": "code",
   "metadata": {
    "ExecuteTime": {
     "end_time": "2025-04-03T06:46:58.895234Z",
     "start_time": "2025-04-03T06:46:58.890158Z"
    }
   },
   "source": [
    "type(l)"
   ],
   "outputs": [
    {
     "data": {
      "text/plain": [
       "list"
      ]
     },
     "execution_count": 34,
     "metadata": {},
     "output_type": "execute_result"
    }
   ],
   "execution_count": 34
  },
  {
   "cell_type": "markdown",
   "metadata": {},
   "source": [
    "Length, indexing, slicing and comparison for lists and tuples are similar.\n",
    "### 3.2.2 Deleting elements\n",
    "Deleting last list item."
   ]
  },
  {
   "cell_type": "code",
   "metadata": {
    "ExecuteTime": {
     "end_time": "2025-04-03T06:46:58.951799Z",
     "start_time": "2025-04-03T06:46:58.947467Z"
    }
   },
   "source": [
    "l.pop()\n",
    "print(l)"
   ],
   "outputs": [
    {
     "name": "stdout",
     "output_type": "stream",
     "text": [
      "[5, 6, 5, 7]\n"
     ]
    }
   ],
   "execution_count": 35
  },
  {
   "cell_type": "markdown",
   "metadata": {},
   "source": [
    "Deleting a list item at a specific index."
   ]
  },
  {
   "cell_type": "code",
   "metadata": {
    "ExecuteTime": {
     "end_time": "2025-04-03T06:46:59.019814Z",
     "start_time": "2025-04-03T06:46:59.013202Z"
    }
   },
   "source": [
    "del l[0]\n",
    "print(l)"
   ],
   "outputs": [
    {
     "name": "stdout",
     "output_type": "stream",
     "text": [
      "[6, 5, 7]\n"
     ]
    }
   ],
   "execution_count": 36
  },
  {
   "cell_type": "markdown",
   "metadata": {},
   "source": [
    "Deleting a list item with a specific value."
   ]
  },
  {
   "cell_type": "code",
   "metadata": {
    "ExecuteTime": {
     "end_time": "2025-04-03T06:46:59.068538Z",
     "start_time": "2025-04-03T06:46:59.064601Z"
    }
   },
   "source": [
    "l.remove(6)\n",
    "print(l)"
   ],
   "outputs": [
    {
     "name": "stdout",
     "output_type": "stream",
     "text": [
      "[5, 7]\n"
     ]
    }
   ],
   "execution_count": 37
  },
  {
   "cell_type": "markdown",
   "metadata": {},
   "source": [
    "### 3.2.3 Adding elements\n",
    "Inserting a list item at a specific index."
   ]
  },
  {
   "cell_type": "code",
   "metadata": {
    "ExecuteTime": {
     "end_time": "2025-04-03T06:46:59.123021Z",
     "start_time": "2025-04-03T06:46:59.116673Z"
    }
   },
   "source": [
    "l.insert(1,6)\n",
    "print(l)"
   ],
   "outputs": [
    {
     "name": "stdout",
     "output_type": "stream",
     "text": [
      "[5, 6, 7]\n"
     ]
    }
   ],
   "execution_count": 38
  },
  {
   "cell_type": "markdown",
   "metadata": {},
   "source": [
    "### 3.2.4 Concatenation\n",
    "Concatenating means obtaining a new list that contains both of the original lists. "
   ]
  },
  {
   "cell_type": "code",
   "metadata": {
    "ExecuteTime": {
     "end_time": "2025-04-03T06:46:59.176261Z",
     "start_time": "2025-04-03T06:46:59.172588Z"
    }
   },
   "source": [
    "l += [1,2,3]\n",
    "print(l)"
   ],
   "outputs": [
    {
     "name": "stdout",
     "output_type": "stream",
     "text": [
      "[5, 6, 7, 1, 2, 3]\n"
     ]
    }
   ],
   "execution_count": 39
  },
  {
   "cell_type": "markdown",
   "metadata": {},
   "source": [
    "The * operator can also be used to repeat elements of a list. When we multiply a list with any number using the * operator, it repeats the elements of the given list."
   ]
  },
  {
   "cell_type": "code",
   "metadata": {
    "ExecuteTime": {
     "end_time": "2025-04-03T06:46:59.225863Z",
     "start_time": "2025-04-03T06:46:59.220651Z"
    }
   },
   "source": [
    "l*3 "
   ],
   "outputs": [
    {
     "data": {
      "text/plain": [
       "[5, 6, 7, 1, 2, 3, 5, 6, 7, 1, 2, 3, 5, 6, 7, 1, 2, 3]"
      ]
     },
     "execution_count": 40,
     "metadata": {},
     "output_type": "execute_result"
    }
   ],
   "execution_count": 40
  },
  {
   "cell_type": "markdown",
   "metadata": {},
   "source": [
    "### 3.2.4 Sorting\n",
    "Sorting changes the original list."
   ]
  },
  {
   "cell_type": "code",
   "metadata": {
    "ExecuteTime": {
     "end_time": "2025-04-03T06:46:59.277849Z",
     "start_time": "2025-04-03T06:46:59.273513Z"
    }
   },
   "source": [
    "l.sort()\n",
    "print(l)"
   ],
   "outputs": [
    {
     "name": "stdout",
     "output_type": "stream",
     "text": [
      "[1, 2, 3, 5, 6, 7]\n"
     ]
    }
   ],
   "execution_count": 41
  },
  {
   "cell_type": "markdown",
   "metadata": {},
   "source": [
    "## 3.3 Set\n",
    "An easy way to generate a set ist to use curly braces and add objects individually."
   ]
  },
  {
   "cell_type": "code",
   "metadata": {
    "ExecuteTime": {
     "end_time": "2025-04-03T06:46:59.334547Z",
     "start_time": "2025-04-03T06:46:59.327657Z"
    }
   },
   "source": [
    "s = {5,6,5,7,5}\n",
    "print(s)"
   ],
   "outputs": [
    {
     "name": "stdout",
     "output_type": "stream",
     "text": [
      "{5, 6, 7}\n"
     ]
    }
   ],
   "execution_count": 42
  },
  {
   "cell_type": "code",
   "metadata": {
    "ExecuteTime": {
     "end_time": "2025-04-03T06:46:59.395006Z",
     "start_time": "2025-04-03T06:46:59.389699Z"
    }
   },
   "source": [
    "type(s)"
   ],
   "outputs": [
    {
     "data": {
      "text/plain": [
       "set"
      ]
     },
     "execution_count": 43,
     "metadata": {},
     "output_type": "execute_result"
    }
   ],
   "execution_count": 43
  },
  {
   "cell_type": "markdown",
   "metadata": {},
   "source": [
    "Note: A set doesn't have duplicated elements."
   ]
  },
  {
   "cell_type": "markdown",
   "metadata": {},
   "source": [
    "## 3.4 Dictionary\n",
    "Dictionaries are used to store data values in key:value pairs.\n",
    "A dictionary is a collection which do not allow duplicates."
   ]
  },
  {
   "cell_type": "code",
   "metadata": {
    "ExecuteTime": {
     "end_time": "2025-04-03T06:46:59.450197Z",
     "start_time": "2025-04-03T06:46:59.446124Z"
    }
   },
   "source": [
    "students = dict({784711:'Max Mustermann',780815:'Erika Musterfrau'})\n",
    "print(students)"
   ],
   "outputs": [
    {
     "name": "stdout",
     "output_type": "stream",
     "text": [
      "{784711: 'Max Mustermann', 780815: 'Erika Musterfrau'}\n"
     ]
    }
   ],
   "execution_count": 44
  },
  {
   "cell_type": "code",
   "metadata": {
    "ExecuteTime": {
     "end_time": "2025-04-03T06:46:59.511741Z",
     "start_time": "2025-04-03T06:46:59.505984Z"
    }
   },
   "source": [
    "type(students)"
   ],
   "outputs": [
    {
     "data": {
      "text/plain": [
       "dict"
      ]
     },
     "execution_count": 45,
     "metadata": {},
     "output_type": "execute_result"
    }
   ],
   "execution_count": 45
  },
  {
   "cell_type": "markdown",
   "metadata": {},
   "source": [
    "Number of pairs."
   ]
  },
  {
   "cell_type": "code",
   "metadata": {
    "ExecuteTime": {
     "end_time": "2025-04-03T06:46:59.577952Z",
     "start_time": "2025-04-03T06:46:59.572752Z"
    }
   },
   "source": [
    "len(students)"
   ],
   "outputs": [
    {
     "data": {
      "text/plain": [
       "2"
      ]
     },
     "execution_count": 46,
     "metadata": {},
     "output_type": "execute_result"
    }
   ],
   "execution_count": 46
  },
  {
   "cell_type": "markdown",
   "metadata": {},
   "source": [
    "Seperate keys and values."
   ]
  },
  {
   "cell_type": "code",
   "metadata": {
    "ExecuteTime": {
     "end_time": "2025-04-03T06:46:59.646498Z",
     "start_time": "2025-04-03T06:46:59.641978Z"
    }
   },
   "source": [
    "students.keys()"
   ],
   "outputs": [
    {
     "data": {
      "text/plain": [
       "dict_keys([784711, 780815])"
      ]
     },
     "execution_count": 47,
     "metadata": {},
     "output_type": "execute_result"
    }
   ],
   "execution_count": 47
  },
  {
   "cell_type": "code",
   "metadata": {
    "ExecuteTime": {
     "end_time": "2025-04-03T06:46:59.706420Z",
     "start_time": "2025-04-03T06:46:59.702132Z"
    }
   },
   "source": [
    "students.values()"
   ],
   "outputs": [
    {
     "data": {
      "text/plain": [
       "dict_values(['Max Mustermann', 'Erika Musterfrau'])"
      ]
     },
     "execution_count": 48,
     "metadata": {},
     "output_type": "execute_result"
    }
   ],
   "execution_count": 48
  },
  {
   "cell_type": "markdown",
   "metadata": {},
   "source": [
    "Get the value of a key."
   ]
  },
  {
   "cell_type": "code",
   "metadata": {
    "ExecuteTime": {
     "end_time": "2025-04-03T06:46:59.763082Z",
     "start_time": "2025-04-03T06:46:59.758108Z"
    }
   },
   "source": [
    "students[784711]"
   ],
   "outputs": [
    {
     "data": {
      "text/plain": [
       "'Max Mustermann'"
      ]
     },
     "execution_count": 49,
     "metadata": {},
     "output_type": "execute_result"
    }
   ],
   "execution_count": 49
  },
  {
   "cell_type": "markdown",
   "metadata": {},
   "source": [
    "Check for a key."
   ]
  },
  {
   "cell_type": "code",
   "metadata": {
    "ExecuteTime": {
     "end_time": "2025-04-03T06:46:59.820353Z",
     "start_time": "2025-04-03T06:46:59.814852Z"
    }
   },
   "source": [
    "784711 in students"
   ],
   "outputs": [
    {
     "data": {
      "text/plain": [
       "True"
      ]
     },
     "execution_count": 50,
     "metadata": {},
     "output_type": "execute_result"
    }
   ],
   "execution_count": 50
  },
  {
   "cell_type": "code",
   "metadata": {
    "ExecuteTime": {
     "end_time": "2025-04-03T06:46:59.873322Z",
     "start_time": "2025-04-03T06:46:59.867217Z"
    }
   },
   "source": [
    "784712 in students"
   ],
   "outputs": [
    {
     "data": {
      "text/plain": [
       "False"
      ]
     },
     "execution_count": 51,
     "metadata": {},
     "output_type": "execute_result"
    }
   ],
   "execution_count": 51
  },
  {
   "cell_type": "code",
   "metadata": {
    "ExecuteTime": {
     "end_time": "2025-04-03T06:46:59.920100Z",
     "start_time": "2025-04-03T06:46:59.917413Z"
    }
   },
   "source": [],
   "outputs": [],
   "execution_count": null
  }
 ],
 "metadata": {
  "kernelspec": {
   "display_name": "Python 3 (ipykernel)",
   "language": "python",
   "name": "python3"
  },
  "language_info": {
   "codemirror_mode": {
    "name": "ipython",
    "version": 3
   },
   "file_extension": ".py",
   "mimetype": "text/x-python",
   "name": "python",
   "nbconvert_exporter": "python",
   "pygments_lexer": "ipython3",
   "version": "3.9.7"
  },
  "toc": {
   "base_numbering": 1,
   "nav_menu": {},
   "number_sections": true,
   "sideBar": true,
   "skip_h1_title": false,
   "title_cell": "Table of Contents",
   "title_sidebar": "Contents",
   "toc_cell": false,
   "toc_position": {},
   "toc_section_display": true,
   "toc_window_display": false
  }
 },
 "nbformat": 4,
 "nbformat_minor": 4
}
