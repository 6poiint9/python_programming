{
 "cells": [
  {
   "metadata": {},
   "cell_type": "raw",
   "source": "",
   "id": "956fe2f58f3343ec"
  },
  {
   "metadata": {
    "ExecuteTime": {
     "end_time": "2025-04-07T18:08:56.213096Z",
     "start_time": "2025-04-07T18:08:56.209920Z"
    }
   },
   "cell_type": "code",
   "source": "4 + 5\n",
   "id": "11d7ec2224dfdaa2",
   "outputs": [
    {
     "data": {
      "text/plain": [
       "9"
      ]
     },
     "execution_count": 2,
     "metadata": {},
     "output_type": "execute_result"
    }
   ],
   "execution_count": 2
  },
  {
   "metadata": {
    "ExecuteTime": {
     "end_time": "2025-04-07T18:26:01.623466Z",
     "start_time": "2025-04-07T18:26:01.620781Z"
    }
   },
   "cell_type": "code",
   "source": "print(\"Whatup ngga!\")\n",
   "id": "f80ba3fa6517cd1c",
   "outputs": [
    {
     "name": "stdout",
     "output_type": "stream",
     "text": [
      "Whatup ngga!\n"
     ]
    }
   ],
   "execution_count": 4
  }
 ],
 "metadata": {
  "kernelspec": {
   "name": "python3",
   "language": "python",
   "display_name": "Python 3 (ipykernel)"
  }
 },
 "nbformat": 5,
 "nbformat_minor": 9
}
