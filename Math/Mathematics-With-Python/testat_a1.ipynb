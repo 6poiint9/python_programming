{
 "cells": [
  {
   "cell_type": "code",
   "id": "initial_id",
   "metadata": {
    "collapsed": true,
    "ExecuteTime": {
     "end_time": "2025-04-10T06:54:02.020492Z",
     "start_time": "2025-04-10T06:54:02.014961Z"
    }
   },
   "source": [
    "# Tupel mit den Werten\n",
    "fruechte = (\"Apfel\", \"Birne\", \"Banane\")\n",
    "\n",
    "# Index-Variable für while-Schleife\n",
    "i = 0\n",
    "\n",
    "# while-Schleife zum Ausgeben\n",
    "while i < len(fruechte):\n",
    "    print(f\"{i + 1}. Wert: {fruechte[i]}\")\n",
    "    i += 1\n"
   ],
   "outputs": [
    {
     "name": "stdout",
     "output_type": "stream",
     "text": [
      "1. Wert: Apfel\n",
      "2. Wert: Birne\n",
      "3. Wert: Banane\n"
     ]
    }
   ],
   "execution_count": 2
  }
 ],
 "metadata": {
  "kernelspec": {
   "display_name": "Python 3",
   "language": "python",
   "name": "python3"
  },
  "language_info": {
   "codemirror_mode": {
    "name": "ipython",
    "version": 2
   },
   "file_extension": ".py",
   "mimetype": "text/x-python",
   "name": "python",
   "nbconvert_exporter": "python",
   "pygments_lexer": "ipython2",
   "version": "2.7.6"
  }
 },
 "nbformat": 4,
 "nbformat_minor": 5
}
