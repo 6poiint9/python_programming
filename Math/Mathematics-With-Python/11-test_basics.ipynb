{
 "cells": [
  {
   "metadata": {
    "ExecuteTime": {
     "end_time": "2025-03-24T15:14:47.588860Z",
     "start_time": "2025-03-24T15:14:47.583705Z"
    }
   },
   "cell_type": "code",
   "source": [
    "#!/usr/bin/env python\n",
    "# coding: utf-8\n",
    "\n",
    "# <img src=\"images/00-mathematics_with_python.png\" style=\"height:250px\" align=\"left\">\n",
    "\n",
    "# <!--NAVIGATION-->\n",
    "# | [I Introduction to Python](10-introduction_to_python.ipynb) |  [2 Basic Data Types](12-basic_data_types.ipynb) >\n",
    "\n",
    "# # 1 Python Basics\n",
    "# ## 1.1 Python as a calculator\n",
    "# Jupyter notebooks offer different types of cells.\n",
    "# Markdown cells are used for text.\n",
    "# In a code cell program statements may be executed.\n",
    "# Similar to a calculator, the result of the calculation is displayed immediately.\n",
    "\n",
    "# In[19]:\n",
    "\n",
    "\n",
    "(3+2 * 6) / 6 - 3 \n",
    "\n",
    "\n",
    "# If the result of a calculation is assigned to a variable, no output appears.\n",
    "\n",
    "# In[20]:\n",
    "\n",
    "\n",
    "x=3+2\n",
    "\n",
    "\n",
    "# The value of a variable can be output using the [print()](https://docs.python.org/3/library/functions.html#print) function.\n",
    "\n",
    "# In[21]:\n",
    "\n",
    "\n",
    "print(x)\n",
    "\n",
    "\n",
    "# Variables can be used in other code cells.\n",
    "\n",
    "# In[22]:\n",
    "\n",
    "\n",
    "x+4\n",
    "\n",
    "\n",
    "# ## 1.2 Mathematical operators\n",
    "# There are five elementary mathematical operators in Python.\n",
    "# Each operator can be combined with the equal sign.\n",
    "# \n",
    "# $\n",
    "# \\begin{array}{|l|l|l|l|l|}\n",
    "# \\hline\n",
    "# \\mbox{addition} & \\mbox{subtraction} & \\mbox{multiplication} & \\mbox{division} & \\mbox{power} \\\\\n",
    "# \\hline\n",
    "# + & - & * & / & ** \\\\\n",
    "# \\hline\n",
    "# += & -= & *= & /= & **= \\\\\n",
    "# \\hline\n",
    "# \\end{array}\n",
    "# $\n",
    "\n",
    "# In[23]:\n",
    "\n",
    "\n",
    "x*=2\n",
    "print(x)\n",
    "\n",
    "\n",
    "# \n",
    "# \n",
    "# \n",
    "\n",
    "# In[ ]:\n",
    "\n",
    "\n",
    "\n",
    "\n"
   ],
   "id": "49332bf9e4ac68a8",
   "outputs": [
    {
     "name": "stdout",
     "output_type": "stream",
     "text": [
      "5\n",
      "10\n"
     ]
    }
   ],
   "execution_count": 2
  }
 ],
 "metadata": {
  "kernelspec": {
   "name": "python3",
   "language": "python",
   "display_name": "Python 3 (ipykernel)"
  }
 },
 "nbformat": 5,
 "nbformat_minor": 9
}
