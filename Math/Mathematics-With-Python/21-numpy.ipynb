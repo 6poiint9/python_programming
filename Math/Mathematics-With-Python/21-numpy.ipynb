{
 "cells": [
  {
   "cell_type": "markdown",
   "metadata": {},
   "source": [
    "<img src=\"images/00-mathematics_with_python.png\" style=\"height:250px\" align=\"left\">"
   ]
  },
  {
   "cell_type": "markdown",
   "metadata": {},
   "source": [
    "<!--NAVIGATION-->\n",
    "< [II Python Packages](20-python_packages.ipynb) | [2 Matplotlib](22-matplotlib.ipynb) >"
   ]
  },
  {
   "cell_type": "markdown",
   "metadata": {},
   "source": [
    "# 1 Numpy\n",
    "NumPy integrates the numerical power of C or Fortran into Python. The syntax, especially for matrix calculations, is much simpler and more compact and is oriented towards Matlab."
   ]
  },
  {
   "cell_type": "code",
   "metadata": {
    "ExecuteTime": {
     "end_time": "2025-04-03T07:13:10.653423Z",
     "start_time": "2025-04-03T07:13:10.649808Z"
    }
   },
   "source": [
    "import numpy as np\n",
    "print(np.__version__)"
   ],
   "outputs": [
    {
     "name": "stdout",
     "output_type": "stream",
     "text": [
      "2.2.4\n"
     ]
    }
   ],
   "execution_count": 4
  },
  {
   "cell_type": "markdown",
   "metadata": {},
   "source": [
    "## 1.1 Creating arrays\n",
    "Use square brackets [...] to create arrays."
   ]
  },
  {
   "cell_type": "code",
   "metadata": {
    "ExecuteTime": {
     "end_time": "2025-04-03T07:13:10.709012Z",
     "start_time": "2025-04-03T07:13:10.704340Z"
    }
   },
   "source": [
    "a=np.array([47.0,11.0,0.0,8.0,15.0])\n",
    "print(a)"
   ],
   "outputs": [
    {
     "name": "stdout",
     "output_type": "stream",
     "text": [
      "[47. 11.  0.  8. 15.]\n"
     ]
    }
   ],
   "execution_count": 5
  },
  {
   "cell_type": "markdown",
   "metadata": {},
   "source": [
    "Nested square brackets generate arrays with higher dimensions."
   ]
  },
  {
   "cell_type": "code",
   "metadata": {
    "ExecuteTime": {
     "end_time": "2025-04-03T07:13:10.762674Z",
     "start_time": "2025-04-03T07:13:10.756943Z"
    }
   },
   "source": [
    "A=np.array([[1.0,2.0],[3.0,4.0]])\n",
    "print(A)"
   ],
   "outputs": [
    {
     "name": "stdout",
     "output_type": "stream",
     "text": [
      "[[1. 2.]\n",
      " [3. 4.]]\n"
     ]
    }
   ],
   "execution_count": 6
  },
  {
   "cell_type": "markdown",
   "metadata": {},
   "source": [
    "The type of an array may be specified."
   ]
  },
  {
   "cell_type": "code",
   "metadata": {
    "ExecuteTime": {
     "end_time": "2025-04-03T07:13:10.821184Z",
     "start_time": "2025-04-03T07:13:10.811225Z"
    }
   },
   "source": [
    "np.array([47.0,11.0,0.0,8.0,15.0],dtype=int)"
   ],
   "outputs": [
    {
     "data": {
      "text/plain": [
       "array([47, 11,  0,  8, 15])"
      ]
     },
     "execution_count": 7,
     "metadata": {},
     "output_type": "execute_result"
    }
   ],
   "execution_count": 7
  },
  {
   "cell_type": "markdown",
   "metadata": {},
   "source": [
    "<div class=\"alert alert-block alert-danger\">\n",
    "The function `arange(start,stop,step)` generates a sequence of numbers starting with `start` ending bevore `stop` with step size `step`, see\n",
    "</div>\n",
    "\n",
    "https://numpy.org/devdocs/reference/generated/numpy.arange.html."
   ]
  },
  {
   "cell_type": "code",
   "metadata": {
    "ExecuteTime": {
     "end_time": "2025-04-03T07:13:10.873695Z",
     "start_time": "2025-04-03T07:13:10.869326Z"
    }
   },
   "source": [
    "start = 0.0\n",
    "stop = 1.0\n",
    "step = 0.2\n",
    "x=np.arange(start,stop+step,step)\n",
    "print(x)"
   ],
   "outputs": [
    {
     "name": "stdout",
     "output_type": "stream",
     "text": [
      "[0.  0.2 0.4 0.6 0.8 1. ]\n"
     ]
    }
   ],
   "execution_count": 8
  },
  {
   "cell_type": "markdown",
   "metadata": {},
   "source": [
    "<div class=\"alert alert-block alert-danger\">\n",
    "The function `linspace(start,stop,num)` generates a sequence off numbers starting with `start` ending at `stop` with `num` numberts of steps, see\n",
    "</div>\n",
    "\n",
    "https://numpy.org/devdocs/reference/generated/numpy.linspace.html"
   ]
  },
  {
   "cell_type": "code",
   "metadata": {
    "ExecuteTime": {
     "end_time": "2025-04-03T07:13:10.931041Z",
     "start_time": "2025-04-03T07:13:10.924210Z"
    }
   },
   "source": [
    "start = 0.0\n",
    "stop = 1.0\n",
    "num = 5\n",
    "y=np.linspace(start,stop,num)\n",
    "print(y)"
   ],
   "outputs": [
    {
     "name": "stdout",
     "output_type": "stream",
     "text": [
      "[0.   0.25 0.5  0.75 1.  ]\n"
     ]
    }
   ],
   "execution_count": 9
  },
  {
   "cell_type": "markdown",
   "metadata": {},
   "source": [
    "## 1.2 Indexing\n",
    "The indices start with index $0$."
   ]
  },
  {
   "cell_type": "code",
   "metadata": {
    "ExecuteTime": {
     "end_time": "2025-04-03T07:13:10.988224Z",
     "start_time": "2025-04-03T07:13:10.982957Z"
    }
   },
   "source": [
    "a[0]"
   ],
   "outputs": [
    {
     "data": {
      "text/plain": [
       "np.float64(47.0)"
      ]
     },
     "execution_count": 10,
     "metadata": {},
     "output_type": "execute_result"
    }
   ],
   "execution_count": 10
  },
  {
   "cell_type": "markdown",
   "metadata": {},
   "source": [
    "In order to adress elements from the end use negative indices."
   ]
  },
  {
   "cell_type": "code",
   "metadata": {
    "ExecuteTime": {
     "end_time": "2025-04-03T07:13:11.040299Z",
     "start_time": "2025-04-03T07:13:11.035689Z"
    }
   },
   "source": [
    "a[-1]"
   ],
   "outputs": [
    {
     "data": {
      "text/plain": [
       "np.float64(15.0)"
      ]
     },
     "execution_count": 11,
     "metadata": {},
     "output_type": "execute_result"
    }
   ],
   "execution_count": 11
  },
  {
   "cell_type": "markdown",
   "metadata": {},
   "source": [
    "First index is used for rows and second index for columns. "
   ]
  },
  {
   "cell_type": "code",
   "metadata": {
    "ExecuteTime": {
     "end_time": "2025-04-03T07:13:11.094437Z",
     "start_time": "2025-04-03T07:13:11.088854Z"
    }
   },
   "source": [
    "A[1,0]"
   ],
   "outputs": [
    {
     "data": {
      "text/plain": [
       "np.float64(3.0)"
      ]
     },
     "execution_count": 12,
     "metadata": {},
     "output_type": "execute_result"
    }
   ],
   "execution_count": 12
  },
  {
   "cell_type": "markdown",
   "metadata": {},
   "source": [
    "## 1.3 Slicing\n",
    "Slicing means cutting out peaces of data."
   ]
  },
  {
   "cell_type": "code",
   "metadata": {
    "ExecuteTime": {
     "end_time": "2025-04-03T07:13:11.145693Z",
     "start_time": "2025-04-03T07:13:11.140990Z"
    }
   },
   "source": [
    "B=np.array([[10.0,11.0,12.0,13.0,14.0,15.0],[20.0,21.0,22.0,23.0,24.0,25.0]])\n",
    "print(B)"
   ],
   "outputs": [
    {
     "name": "stdout",
     "output_type": "stream",
     "text": [
      "[[10. 11. 12. 13. 14. 15.]\n",
      " [20. 21. 22. 23. 24. 25.]]\n"
     ]
    }
   ],
   "execution_count": 13
  },
  {
   "cell_type": "markdown",
   "metadata": {},
   "source": [
    "`:` is used to select all elements in a row or colum."
   ]
  },
  {
   "cell_type": "code",
   "metadata": {
    "ExecuteTime": {
     "end_time": "2025-04-03T07:13:11.213230Z",
     "start_time": "2025-04-03T07:13:11.207236Z"
    }
   },
   "source": [
    "B[1,:]"
   ],
   "outputs": [
    {
     "data": {
      "text/plain": [
       "array([20., 21., 22., 23., 24., 25.])"
      ]
     },
     "execution_count": 14,
     "metadata": {},
     "output_type": "execute_result"
    }
   ],
   "execution_count": 14
  },
  {
   "cell_type": "markdown",
   "metadata": {},
   "source": [
    "`start:end` is used to select all elements with indices between `start` and `end`."
   ]
  },
  {
   "cell_type": "code",
   "metadata": {
    "ExecuteTime": {
     "end_time": "2025-04-03T07:13:11.293013Z",
     "start_time": "2025-04-03T07:13:11.286490Z"
    }
   },
   "source": [
    "B[0,1:4]"
   ],
   "outputs": [
    {
     "data": {
      "text/plain": [
       "array([11., 12., 13.])"
      ]
     },
     "execution_count": 15,
     "metadata": {},
     "output_type": "execute_result"
    }
   ],
   "execution_count": 15
  },
  {
   "cell_type": "markdown",
   "metadata": {},
   "source": [
    "`start:end:stepsize` is used to select all elements with indices between `start` and `end`, proceeding with step size `stepsize`."
   ]
  },
  {
   "cell_type": "code",
   "metadata": {
    "ExecuteTime": {
     "end_time": "2025-04-03T07:13:11.343496Z",
     "start_time": "2025-04-03T07:13:11.338436Z"
    }
   },
   "source": [
    "B[0,1:4:2]"
   ],
   "outputs": [
    {
     "data": {
      "text/plain": [
       "array([11., 13.])"
      ]
     },
     "execution_count": 16,
     "metadata": {},
     "output_type": "execute_result"
    }
   ],
   "execution_count": 16
  },
  {
   "cell_type": "markdown",
   "metadata": {},
   "source": [
    "## Mathematical functions\n",
    "The usual mathematical functions may be used for all elements of an array. "
   ]
  },
  {
   "cell_type": "markdown",
   "metadata": {},
   "source": [
    "$\n",
    "\\begin{array}{|l|l|l|l|l|}\n",
    "\\hline\n",
    "\\mbox{sin} & \\mbox{cos} & \\mbox{tan} \\\\\n",
    "\\hline\n",
    "\\mbox{arcsin} & \\mbox{arccos} & \\mbox{arctan} \\\\\n",
    "\\hline\n",
    "\\end{array}\n",
    "$"
   ]
  },
  {
   "cell_type": "code",
   "metadata": {
    "ExecuteTime": {
     "end_time": "2025-04-03T07:13:11.399431Z",
     "start_time": "2025-04-03T07:13:11.394176Z"
    }
   },
   "source": [
    "x = np.array([0.0,np.pi/6.0,np.pi/4.0,np.pi/3,np.pi/2])\n",
    "print(np.sin(x))\n",
    "print(np.cos(x))"
   ],
   "outputs": [
    {
     "name": "stdout",
     "output_type": "stream",
     "text": [
      "[0.         0.5        0.70710678 0.8660254  1.        ]\n",
      "[1.00000000e+00 8.66025404e-01 7.07106781e-01 5.00000000e-01\n",
      " 6.12323400e-17]\n"
     ]
    }
   ],
   "execution_count": 17
  },
  {
   "cell_type": "markdown",
   "metadata": {},
   "source": [
    "## Division by zero\n",
    "A division by zero will result in `inf` or `nan`."
   ]
  },
  {
   "cell_type": "code",
   "metadata": {
    "ExecuteTime": {
     "end_time": "2025-04-03T07:13:11.454135Z",
     "start_time": "2025-04-03T07:13:11.447260Z"
    }
   },
   "source": [
    "np.array([1.0,0.0])/0.0"
   ],
   "outputs": [
    {
     "name": "stderr",
     "output_type": "stream",
     "text": [
      "/tmp/ipykernel_7186/1824308420.py:1: RuntimeWarning: divide by zero encountered in divide\n",
      "  np.array([1.0,0.0])/0.0\n",
      "/tmp/ipykernel_7186/1824308420.py:1: RuntimeWarning: invalid value encountered in divide\n",
      "  np.array([1.0,0.0])/0.0\n"
     ]
    },
    {
     "data": {
      "text/plain": [
       "array([inf, nan])"
      ]
     },
     "execution_count": 18,
     "metadata": {},
     "output_type": "execute_result"
    }
   ],
   "execution_count": 18
  },
  {
   "cell_type": "markdown",
   "metadata": {},
   "source": [
    "## Literature\n",
    "- https://numpy.org\n",
    "- https://numpy.org/devdocs/user/quickstart.html\n",
    "- https://www.oreilly.com/library/view/machine-learning-with/9781491989371/ch01.html\n",
    "- https://www.youtube.com/embed/GB9ByFAIAH4"
   ]
  },
  {
   "cell_type": "code",
   "metadata": {
    "ExecuteTime": {
     "end_time": "2025-04-03T07:13:11.505090Z",
     "start_time": "2025-04-03T07:13:11.502543Z"
    }
   },
   "source": [],
   "outputs": [],
   "execution_count": null
  }
 ],
 "metadata": {
  "kernelspec": {
   "display_name": "Python 3 (ipykernel)",
   "language": "python",
   "name": "python3"
  },
  "language_info": {
   "codemirror_mode": {
    "name": "ipython",
    "version": 3
   },
   "file_extension": ".py",
   "mimetype": "text/x-python",
   "name": "python",
   "nbconvert_exporter": "python",
   "pygments_lexer": "ipython3",
   "version": "3.9.7"
  },
  "toc": {
   "base_numbering": 1,
   "nav_menu": {},
   "number_sections": true,
   "sideBar": true,
   "skip_h1_title": true,
   "title_cell": "Solving ODEs with SymPy",
   "title_sidebar": "Solving ODEs with SymPy",
   "toc_cell": true,
   "toc_position": {},
   "toc_section_display": true,
   "toc_window_display": false
  }
 },
 "nbformat": 4,
 "nbformat_minor": 2
}
