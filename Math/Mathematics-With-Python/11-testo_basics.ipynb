{
 "cells": [
  {
   "cell_type": "code",
   "id": "1204ade2",
   "metadata": {
    "ExecuteTime": {
     "end_time": "2025-03-24T15:20:21.565767Z",
     "start_time": "2025-03-24T15:20:21.563774Z"
    }
   },
   "source": [
    "\n",
    "# <img src=\"images/00-mathematics_with_python.png\" style=\"height:250px\" align=\"left\">\n",
    "\n",
    "# <!--NAVIGATION-->\n",
    "# | [I Introduction to Python](10-introduction_to_python.ipynb) |  [2 Basic Data Types](12-basic_data_types.ipynb) >\n",
    "\n",
    "# # 1 Python Basics\n",
    "# ## 1.1 Python as a calculator\n",
    "# Jupyter notebooks offer different types of cells.\n",
    "# Markdown cells are used for text.\n",
    "# In a code cell program statements may be executed.\n",
    "# Similar to a calculator, the result of the calculation is displayed immediately."
   ],
   "outputs": [],
   "execution_count": 1
  },
  {
   "cell_type": "code",
   "id": "66983a31",
   "metadata": {
    "ExecuteTime": {
     "end_time": "2025-03-24T15:20:21.626915Z",
     "start_time": "2025-03-24T15:20:21.614545Z"
    }
   },
   "source": [
    "\n",
    "\n",
    "(3+2 * 6) / 6 - 3 \n",
    "\n",
    "\n",
    "# If the result of a calculation is assigned to a variable, no output appears."
   ],
   "outputs": [
    {
     "data": {
      "text/plain": [
       "-0.5"
      ]
     },
     "execution_count": 2,
     "metadata": {},
     "output_type": "execute_result"
    }
   ],
   "execution_count": 2
  },
  {
   "cell_type": "code",
   "id": "8915a097",
   "metadata": {
    "ExecuteTime": {
     "end_time": "2025-03-24T15:20:21.693654Z",
     "start_time": "2025-03-24T15:20:21.691887Z"
    }
   },
   "source": [
    "\n",
    "\n",
    "x=3+2\n",
    "\n",
    "\n",
    "# The value of a variable can be output using the [print()](https://docs.python.org/3/library/functions.html#print) function."
   ],
   "outputs": [],
   "execution_count": 3
  },
  {
   "cell_type": "code",
   "id": "7c83ad0f",
   "metadata": {
    "ExecuteTime": {
     "end_time": "2025-03-24T15:20:21.738697Z",
     "start_time": "2025-03-24T15:20:21.736581Z"
    }
   },
   "source": [
    "\n",
    "\n",
    "print(x)\n",
    "\n",
    "\n",
    "# Variables can be used in other code cells."
   ],
   "outputs": [
    {
     "name": "stdout",
     "output_type": "stream",
     "text": [
      "5\n"
     ]
    }
   ],
   "execution_count": 4
  },
  {
   "cell_type": "code",
   "id": "166ff578",
   "metadata": {
    "ExecuteTime": {
     "end_time": "2025-03-24T15:20:21.793907Z",
     "start_time": "2025-03-24T15:20:21.788601Z"
    }
   },
   "source": [
    "\n",
    "\n",
    "x+4\n",
    "\n",
    "\n",
    "# ## 1.2 Mathematical operators\n",
    "# There are five elementary mathematical operators in Python.\n",
    "# Each operator can be combined with the equal sign.\n",
    "# \n",
    "# $\n",
    "# \\begin{array}{|l|l|l|l|l|}\n",
    "# \\hline\n",
    "# \\mbox{addition} & \\mbox{subtraction} & \\mbox{multiplication} & \\mbox{division} & \\mbox{power} \\\\\n",
    "# \\hline\n",
    "# + & - & * & / & ** \\\\\n",
    "# \\hline\n",
    "# += & -= & *= & /= & **= \\\\\n",
    "# \\hline\n",
    "# \\end{array}\n",
    "# $"
   ],
   "outputs": [
    {
     "data": {
      "text/plain": [
       "9"
      ]
     },
     "execution_count": 5,
     "metadata": {},
     "output_type": "execute_result"
    }
   ],
   "execution_count": 5
  },
  {
   "cell_type": "code",
   "id": "435a99a5",
   "metadata": {
    "ExecuteTime": {
     "end_time": "2025-03-24T15:20:21.846469Z",
     "start_time": "2025-03-24T15:20:21.841315Z"
    }
   },
   "source": [
    "\n",
    "\n",
    "x*=2\n",
    "print(x)\n",
    "\n",
    "\n",
    "# \n",
    "# \n",
    "# "
   ],
   "outputs": [
    {
     "name": "stdout",
     "output_type": "stream",
     "text": [
      "10\n"
     ]
    }
   ],
   "execution_count": 6
  },
  {
   "cell_type": "code",
   "id": "df975e84",
   "metadata": {
    "lines_to_next_cell": 2,
    "ExecuteTime": {
     "end_time": "2025-03-24T15:20:21.892701Z",
     "start_time": "2025-03-24T15:20:21.890818Z"
    }
   },
   "source": [
    "\n",
    "\n"
   ],
   "outputs": [],
   "execution_count": 6
  }
 ],
 "metadata": {
  "jupytext": {
   "cell_metadata_filter": "-all",
   "encoding": "# coding: utf-8",
   "executable": "/usr/bin/env python",
   "main_language": "python",
   "notebook_metadata_filter": "-all"
  },
  "kernelspec": {
   "name": "python3",
   "language": "python",
   "display_name": "Python 3 (ipykernel)"
  }
 },
 "nbformat": 4,
 "nbformat_minor": 5
}
